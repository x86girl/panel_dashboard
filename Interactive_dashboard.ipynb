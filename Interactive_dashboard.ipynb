{
 "cells": [
  {
   "cell_type": "code",
   "execution_count": null,
   "id": "fdc9dea9-977d-47ec-a607-c4302a010733",
   "metadata": {},
   "outputs": [],
   "source": [
    "import pandas as pd\n",
    "import numpy as np\n",
    "import panel as pn\n",
    "pn.extension('tabulator')\n",
    "\n",
    "import hvplot.pandas"
   ]
  },
  {
   "cell_type": "code",
   "execution_count": null,
   "id": "97cbf1e9-b3cb-4dbf-a5c4-77d98d13a987",
   "metadata": {},
   "outputs": [],
   "source": [
    "df = pd.read_csv(\"../data/test.csv\")"
   ]
  },
  {
   "cell_type": "code",
   "execution_count": null,
   "id": "28c34f25-8c33-4b36-9597-a876d2e9c02a",
   "metadata": {},
   "outputs": [],
   "source": [
    "df"
   ]
  },
  {
   "attachments": {},
   "cell_type": "markdown",
   "id": "bf78b9c7-2ceb-410a-ba9c-e668d41587db",
   "metadata": {},
   "source": [
    "## (0) Some minor data preprocessing"
   ]
  },
  {
   "cell_type": "code",
   "execution_count": null,
   "id": "81ded706-a096-4b08-8358-519af91555aa",
   "metadata": {},
   "outputs": [],
   "source": [
    "# Fill NAs with 0s and create GDP per capita column\n",
    "df = df.fillna(0)\n",
    "df"
   ]
  },
  {
   "cell_type": "code",
   "execution_count": null,
   "id": "9f3418ec",
   "metadata": {},
   "outputs": [],
   "source": [
    "df.drop('time', axis = 1, inplace = True)\n",
    "df.insert(0,'time',df.index.values)"
   ]
  },
  {
   "cell_type": "code",
   "execution_count": null,
   "id": "3b6d5f4a-f7ef-47fc-a3df-7d60b3cfd97e",
   "metadata": {
    "tags": []
   },
   "outputs": [],
   "source": [
    "# Make DataFrame Pipeline Interactive\n",
    "idf = df.interactive()"
   ]
  },
  {
   "cell_type": "code",
   "execution_count": null,
   "id": "3dbc3250",
   "metadata": {},
   "outputs": [],
   "source": [
    "df"
   ]
  },
  {
   "attachments": {},
   "cell_type": "markdown",
   "id": "54629e7a-8cb8-4fbe-a616-6481a8e6ff31",
   "metadata": {},
   "source": [
    "## (1) CO2 emission over time by continent"
   ]
  },
  {
   "cell_type": "code",
   "execution_count": null,
   "id": "2f7137e2",
   "metadata": {},
   "outputs": [],
   "source": [
    "time_slide_l = (\n",
    "    pn.widgets.IntSlider(\n",
    "        name = \"Time slider\",\n",
    "        start = 0,\n",
    "        end = 2723,\n",
    "        step = 1,\n",
    "        value = 1\n",
    "    )\n",
    ")"
   ]
  },
  {
   "cell_type": "code",
   "execution_count": null,
   "id": "22ea5101",
   "metadata": {},
   "outputs": [],
   "source": [
    "time_slide_r = (\n",
    "    pn.widgets.IntSlider(\n",
    "        name = \"Time slider\",\n",
    "        start = 0,\n",
    "        end = 2723,\n",
    "        step = 1,\n",
    "        value = 2723\n",
    "    )\n",
    ")"
   ]
  },
  {
   "cell_type": "code",
   "execution_count": null,
   "id": "5131fd1d-f9a9-48b2-9168-769435d830fc",
   "metadata": {},
   "outputs": [],
   "source": [
    "# Radio buttons for CO2 measures\n",
    "yaxis_shoulder = pn.widgets.RadioButtonGroup(\n",
    "    name='Y axis', \n",
    "    options=['shoulderLangle', 'shoulderRangle',],\n",
    "    button_type='success'\n",
    ")"
   ]
  },
  {
   "cell_type": "code",
   "execution_count": null,
   "id": "4c357628-af69-4ec4-9e2d-91bcdd21c3c9",
   "metadata": {},
   "outputs": [],
   "source": [
    "\n",
    "shoulder_pipeline = (\n",
    "    idf[\n",
    "        (idf.time <= time_slide_l &\n",
    "         idf.time <= time_slide_r) \n",
    "    ]\n",
    "    .reset_index()\n",
    "    .sort_values(by='time')  \n",
    "    .reset_index(drop=True)\n",
    ")"
   ]
  },
  {
   "cell_type": "code",
   "execution_count": null,
   "id": "ad349aaf-1612-4a0d-9303-3a379cf83fad",
   "metadata": {
    "collapsed": true,
    "jupyter": {
     "outputs_hidden": true
    },
    "tags": []
   },
   "outputs": [],
   "source": [
    "shoulder_pipeline"
   ]
  },
  {
   "cell_type": "code",
   "execution_count": null,
   "id": "96b7ed90-92db-41b2-a2ab-ea80aa34d2db",
   "metadata": {
    "tags": []
   },
   "outputs": [],
   "source": [
    "shoulder_plot = shoulder_pipeline.hvplot(x = 'time',  y=yaxis_shoulder,line_width=2, title=\"Shoulder Plot\")\n",
    "shoulder_plot"
   ]
  },
  {
   "cell_type": "code",
   "execution_count": null,
   "id": "438f8daa-0017-4cb2-a8cb-c86784a6ab52",
   "metadata": {},
   "outputs": [],
   "source": [
    "#Layout using Template\n",
    "template = pn.template.FastListTemplate(\n",
    "    title='Wearable Device for Immersive Virtual Reality Control andApplication in Upper Limbs Motor Rehabilitation dashboard', \n",
    "    sidebar=[pn.pane.Markdown(\"\"), \n",
    "             pn.pane.Markdown(\"#### Carbon dioxide emissions are the primary driver of global climate change. It’s widely recognised that to avoid the worst impacts of climate change, the world needs to urgently reduce emissions. But, how this responsibility is shared between regions, countries, and individuals has been an endless point of contention in international discussions.\"), \n",
    "             pn.pane.PNG('device.png', sizing_mode='scale_both'),\n",
    "             pn.pane.Markdown(\"## Settings\"),   \n",
    "             time_slide_l, time_slide_r],\n",
    "    main=[pn.Row(pn.Column(yaxis_shoulder, \n",
    "                           shoulder_plot.panel(width=700), margin=(0,25)), \n",
    "                  shoulder_plot.panel(width=700), margin=(0,25)), \n",
    "          pn.Row(pn.Column(yaxis_shoulder, \n",
    "                           shoulder_plot.panel(width=700), margin=(0,25)), \n",
    "                  shoulder_plot.panel(width=700), margin=(0,25))],\n",
    "    accent_base_color=\"#87d8b0\",\n",
    "    header_background=\"#85d8b0\",\n",
    ")\n",
    "# template.show()\n",
    "template.servable();"
   ]
  },
  {
   "cell_type": "code",
   "execution_count": null,
   "id": "f5556d01",
   "metadata": {},
   "outputs": [],
   "source": []
  }
 ],
 "metadata": {
  "kernelspec": {
   "display_name": "Python 3 (ipykernel)",
   "language": "python",
   "name": "python3"
  },
  "language_info": {
   "codemirror_mode": {
    "name": "ipython",
    "version": 3
   },
   "file_extension": ".py",
   "mimetype": "text/x-python",
   "name": "python",
   "nbconvert_exporter": "python",
   "pygments_lexer": "ipython3",
   "version": "3.9.16"
  },
  "vscode": {
   "interpreter": {
    "hash": "767d51c1340bd893661ea55ea3124f6de3c7a262a8b4abca0554b478b1e2ff90"
   }
  }
 },
 "nbformat": 4,
 "nbformat_minor": 5
}
