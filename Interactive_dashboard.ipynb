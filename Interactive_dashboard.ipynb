{
 "cells": [
  {
   "cell_type": "code",
   "execution_count": null,
   "id": "fdc9dea9-977d-47ec-a607-c4302a010733",
   "metadata": {},
   "outputs": [],
   "source": [
    "from io import BytesIO\n",
    "\n",
    "import pandas as pd\n",
    "import numpy as np\n",
    "import panel as pn\n",
    "pn.extension('tabulator')\n",
    "import matplotlib.pyplot as plt\n",
    "import hvplot.pandas\n",
    "import matplotlib.gridspec as gridspec\n"
   ]
  },
  {
   "cell_type": "code",
   "execution_count": null,
   "id": "d9dd1b7a",
   "metadata": {},
   "outputs": [],
   "source": [
    "def get_number_of_rows(dataframe):\n",
    "    df = pd.read_csv(dataframe)\n",
    "    return df.shape[0]"
   ]
  },
  {
   "cell_type": "code",
   "execution_count": null,
   "id": "a296e7e3",
   "metadata": {
    "scrolled": true
   },
   "outputs": [],
   "source": [
    "import os\n",
    "path = '../data'\n",
    "files = os.listdir(path)\n",
    "path_files = [path + '/'+ string for string in files]\n",
    "number_of_rows = [get_number_of_rows(dataframe) for dataframe in path_files]\n",
    "#dict_values = [(file_name, n_rows) for file_name, n_rows in zip(path_files, number_of_rows) ]\n",
    "file_entries = dict(zip(files,path_files))\n",
    "file_rows = dict(zip(path_files,number_of_rows))\n"
   ]
  },
  {
   "cell_type": "code",
   "execution_count": null,
   "id": "581e1f6c",
   "metadata": {},
   "outputs": [],
   "source": [
    "file_rows"
   ]
  },
  {
   "cell_type": "code",
   "execution_count": null,
   "id": "f811a9fa",
   "metadata": {},
   "outputs": [],
   "source": [
    "def iqr(array):\n",
    "    q3, q1 = np.percentile(array,[75,25])\n",
    "    IQR = q3 - q1\n",
    "    upper_bound = q3 + 1.5*IQR\n",
    "    lower_bound = q1 - 1.5*IQR\n",
    "    return lower_bound, upper_bound"
   ]
  },
  {
   "cell_type": "code",
   "execution_count": null,
   "id": "df79d7d2",
   "metadata": {},
   "outputs": [],
   "source": [
    "select = pn.widgets.Select(options=file_entries)\n",
    "\n",
    "@pn.cache\n",
    "def fetch_data(url):\n",
    "    df = pd.read_csv(url)\n",
    "    df.drop('time', axis = 1, inplace = True)\n",
    "    df.insert(0,'time',df.index.values)\n",
    "    df = df.fillna(0)\n",
    "    for column in df.keys():\n",
    "        lower_bound, upper_bound =iqr(df[column].to_numpy())\n",
    "        df = df[df[column] > lower_bound ]\n",
    "        df = df[df[column] < upper_bound ]\n",
    "\n",
    "\n",
    "    return df\n",
    "\n",
    "select_df = pn.Column(select, pn.bind(pn.widgets.Tabulator, pn.bind(fetch_data, select), page_size=10))"
   ]
  },
  {
   "cell_type": "code",
   "execution_count": null,
   "id": "c8ceef9f",
   "metadata": {},
   "outputs": [],
   "source": [
    "@pn.cache\n",
    "def plot(df = None, cols = None, last = None, n = 2):\n",
    "    df = fetch_data(df)\n",
    "    breakpoint()\n",
    "    time = df.time.to_numpy()\n",
    "    fig = plt.figure(tight_layout=True)\n",
    "    gs = gridspec.GridSpec(n, n)\n",
    "    if last is not None:\n",
    "        ax = fig.add_subplot(gs[1, :])\n",
    "        ax.plot(time, df[last])\n",
    "        ax.set_ylabel(last)\n",
    "        ax.set_xlabel('time')\n",
    "    for i in range(n):\n",
    "        ax = fig.add_subplot(gs[0, i])\n",
    "        ax.plot(time, df[cols[i]])\n",
    "        ax.set_ylabel(cols[i])\n",
    "        ax.set_xlabel('time')\n",
    "    return fig"
   ]
  },
  {
   "cell_type": "code",
   "execution_count": 13,
   "id": "b90f6c52",
   "metadata": {},
   "outputs": [
    {
     "ename": "KeyError",
     "evalue": "'s'",
     "output_type": "error",
     "traceback": [
      "\u001b[0;31m---------------------------------------------------------------------------\u001b[0m",
      "\u001b[0;31mKeyError\u001b[0m                                  Traceback (most recent call last)",
      "File \u001b[0;32m~/.local/lib/python3.11/site-packages/pandas/core/indexes/base.py:3652\u001b[0m, in \u001b[0;36mIndex.get_loc\u001b[0;34m(self, key)\u001b[0m\n\u001b[1;32m   3651\u001b[0m \u001b[39mtry\u001b[39;00m:\n\u001b[0;32m-> 3652\u001b[0m     \u001b[39mreturn\u001b[39;00m \u001b[39mself\u001b[39;49m\u001b[39m.\u001b[39;49m_engine\u001b[39m.\u001b[39;49mget_loc(casted_key)\n\u001b[1;32m   3653\u001b[0m \u001b[39mexcept\u001b[39;00m \u001b[39mKeyError\u001b[39;00m \u001b[39mas\u001b[39;00m err:\n",
      "File \u001b[0;32m~/.local/lib/python3.11/site-packages/pandas/_libs/index.pyx:147\u001b[0m, in \u001b[0;36mpandas._libs.index.IndexEngine.get_loc\u001b[0;34m()\u001b[0m\n",
      "File \u001b[0;32m~/.local/lib/python3.11/site-packages/pandas/_libs/index.pyx:176\u001b[0m, in \u001b[0;36mpandas._libs.index.IndexEngine.get_loc\u001b[0;34m()\u001b[0m\n",
      "File \u001b[0;32mpandas/_libs/hashtable_class_helper.pxi:7080\u001b[0m, in \u001b[0;36mpandas._libs.hashtable.PyObjectHashTable.get_item\u001b[0;34m()\u001b[0m\n",
      "File \u001b[0;32mpandas/_libs/hashtable_class_helper.pxi:7088\u001b[0m, in \u001b[0;36mpandas._libs.hashtable.PyObjectHashTable.get_item\u001b[0;34m()\u001b[0m\n",
      "\u001b[0;31mKeyError\u001b[0m: 's'",
      "\nThe above exception was the direct cause of the following exception:\n",
      "\u001b[0;31mKeyError\u001b[0m                                  Traceback (most recent call last)",
      "\u001b[1;32m/home/priscila/Mestrado/panel_dashboard/Interactive_dashboard.ipynb Cell 8\u001b[0m line \u001b[0;36m2\n\u001b[1;32m      <a href='vscode-notebook-cell:/home/priscila/Mestrado/panel_dashboard/Interactive_dashboard.ipynb#X33sZmlsZQ%3D%3D?line=0'>1</a>\u001b[0m figure \u001b[39m=\u001b[39m pn\u001b[39m.\u001b[39mbind(plot, select, \u001b[39m'\u001b[39m\u001b[39mshoulderLangle\u001b[39m\u001b[39m'\u001b[39m,\u001b[39mNone\u001b[39;00m, \u001b[39m1\u001b[39m)\n\u001b[0;32m----> <a href='vscode-notebook-cell:/home/priscila/Mestrado/panel_dashboard/Interactive_dashboard.ipynb#X33sZmlsZQ%3D%3D?line=1'>2</a>\u001b[0m pn\u001b[39m.\u001b[39;49mTabs(\u001b[39m'\u001b[39;49m\u001b[39mBla\u001b[39;49m\u001b[39m'\u001b[39;49m,figure)\n",
      "File \u001b[0;32m~/.local/lib/python3.11/site-packages/panel/layout/tabs.py:77\u001b[0m, in \u001b[0;36mTabs.__init__\u001b[0;34m(self, *objects, **params)\u001b[0m\n\u001b[1;32m     76\u001b[0m \u001b[39mdef\u001b[39;00m \u001b[39m__init__\u001b[39m(\u001b[39mself\u001b[39m, \u001b[39m*\u001b[39mobjects, \u001b[39m*\u001b[39m\u001b[39m*\u001b[39mparams):\n\u001b[0;32m---> 77\u001b[0m     \u001b[39msuper\u001b[39;49m()\u001b[39m.\u001b[39;49m\u001b[39m__init__\u001b[39;49m(\u001b[39m*\u001b[39;49mobjects, \u001b[39m*\u001b[39;49m\u001b[39m*\u001b[39;49mparams)\n\u001b[1;32m     78\u001b[0m     \u001b[39mself\u001b[39m\u001b[39m.\u001b[39m_rendered \u001b[39m=\u001b[39m defaultdict(\u001b[39mdict\u001b[39m)\n\u001b[1;32m     79\u001b[0m     \u001b[39mself\u001b[39m\u001b[39m.\u001b[39mparam\u001b[39m.\u001b[39mactive\u001b[39m.\u001b[39mbounds \u001b[39m=\u001b[39m (\u001b[39m0\u001b[39m, \u001b[39mlen\u001b[39m(\u001b[39mself\u001b[39m)\u001b[39m-\u001b[39m\u001b[39m1\u001b[39m)\n",
      "File \u001b[0;32m~/.local/lib/python3.11/site-packages/panel/layout/base.py:501\u001b[0m, in \u001b[0;36mNamedListLike.__init__\u001b[0;34m(self, *items, **params)\u001b[0m\n\u001b[1;32m    497\u001b[0m         \u001b[39mraise\u001b[39;00m \u001b[39mValueError\u001b[39;00m(\u001b[39m'\u001b[39m\u001b[39m%s\u001b[39;00m\u001b[39m objects should be supplied either \u001b[39m\u001b[39m'\u001b[39m\n\u001b[1;32m    498\u001b[0m                          \u001b[39m'\u001b[39m\u001b[39mas positional arguments or as a keyword, \u001b[39m\u001b[39m'\u001b[39m\n\u001b[1;32m    499\u001b[0m                          \u001b[39m'\u001b[39m\u001b[39mnot both.\u001b[39m\u001b[39m'\u001b[39m \u001b[39m%\u001b[39m \u001b[39mtype\u001b[39m(\u001b[39mself\u001b[39m)\u001b[39m.\u001b[39m\u001b[39m__name__\u001b[39m)\n\u001b[1;32m    500\u001b[0m     items \u001b[39m=\u001b[39m params\u001b[39m.\u001b[39mpop(\u001b[39m'\u001b[39m\u001b[39mobjects\u001b[39m\u001b[39m'\u001b[39m)\n\u001b[0;32m--> 501\u001b[0m params[\u001b[39m'\u001b[39m\u001b[39mobjects\u001b[39m\u001b[39m'\u001b[39m], \u001b[39mself\u001b[39m\u001b[39m.\u001b[39m_names \u001b[39m=\u001b[39m \u001b[39mself\u001b[39;49m\u001b[39m.\u001b[39;49m_to_objects_and_names(items)\n\u001b[1;32m    502\u001b[0m \u001b[39msuper\u001b[39m()\u001b[39m.\u001b[39m\u001b[39m__init__\u001b[39m(\u001b[39m*\u001b[39m\u001b[39m*\u001b[39mparams)\n\u001b[1;32m    503\u001b[0m \u001b[39mself\u001b[39m\u001b[39m.\u001b[39m_panels \u001b[39m=\u001b[39m defaultdict(\u001b[39mdict\u001b[39m)\n",
      "File \u001b[0;32m~/.local/lib/python3.11/site-packages/panel/layout/base.py:522\u001b[0m, in \u001b[0;36mNamedListLike._to_objects_and_names\u001b[0;34m(self, items)\u001b[0m\n\u001b[1;32m    520\u001b[0m objects, names \u001b[39m=\u001b[39m [], []\n\u001b[1;32m    521\u001b[0m \u001b[39mfor\u001b[39;00m item \u001b[39min\u001b[39;00m items:\n\u001b[0;32m--> 522\u001b[0m     pane, name \u001b[39m=\u001b[39m \u001b[39mself\u001b[39;49m\u001b[39m.\u001b[39;49m_to_object_and_name(item)\n\u001b[1;32m    523\u001b[0m     objects\u001b[39m.\u001b[39mappend(pane)\n\u001b[1;32m    524\u001b[0m     names\u001b[39m.\u001b[39mappend(name)\n",
      "File \u001b[0;32m~/.local/lib/python3.11/site-packages/panel/layout/base.py:515\u001b[0m, in \u001b[0;36mNamedListLike._to_object_and_name\u001b[0;34m(self, item)\u001b[0m\n\u001b[1;32m    513\u001b[0m \u001b[39melse\u001b[39;00m:\n\u001b[1;32m    514\u001b[0m     name \u001b[39m=\u001b[39m \u001b[39mgetattr\u001b[39m(item, \u001b[39m'\u001b[39m\u001b[39mname\u001b[39m\u001b[39m'\u001b[39m, \u001b[39mNone\u001b[39;00m)\n\u001b[0;32m--> 515\u001b[0m pane \u001b[39m=\u001b[39m panel(item, name\u001b[39m=\u001b[39;49mname)\n\u001b[1;32m    516\u001b[0m name \u001b[39m=\u001b[39m param_name(pane\u001b[39m.\u001b[39mname) \u001b[39mif\u001b[39;00m name \u001b[39mis\u001b[39;00m \u001b[39mNone\u001b[39;00m \u001b[39melse\u001b[39;00m name\n\u001b[1;32m    517\u001b[0m \u001b[39mreturn\u001b[39;00m pane, name\n",
      "File \u001b[0;32m~/.local/lib/python3.11/site-packages/panel/pane/base.py:80\u001b[0m, in \u001b[0;36mpanel\u001b[0;34m(obj, **kwargs)\u001b[0m\n\u001b[1;32m     78\u001b[0m \u001b[39mif\u001b[39;00m kwargs\u001b[39m.\u001b[39mget(\u001b[39m'\u001b[39m\u001b[39mname\u001b[39m\u001b[39m'\u001b[39m, \u001b[39mFalse\u001b[39;00m) \u001b[39mis\u001b[39;00m \u001b[39mNone\u001b[39;00m:\n\u001b[1;32m     79\u001b[0m     kwargs\u001b[39m.\u001b[39mpop(\u001b[39m'\u001b[39m\u001b[39mname\u001b[39m\u001b[39m'\u001b[39m)\n\u001b[0;32m---> 80\u001b[0m pane \u001b[39m=\u001b[39m PaneBase\u001b[39m.\u001b[39;49mget_pane_type(obj, \u001b[39m*\u001b[39;49m\u001b[39m*\u001b[39;49mkwargs)(obj, \u001b[39m*\u001b[39;49m\u001b[39m*\u001b[39;49mkwargs)\n\u001b[1;32m     81\u001b[0m \u001b[39mif\u001b[39;00m \u001b[39mlen\u001b[39m(pane\u001b[39m.\u001b[39mlayout) \u001b[39m==\u001b[39m \u001b[39m1\u001b[39m \u001b[39mand\u001b[39;00m pane\u001b[39m.\u001b[39m_unpack:\n\u001b[1;32m     82\u001b[0m     \u001b[39mreturn\u001b[39;00m pane\u001b[39m.\u001b[39mlayout[\u001b[39m0\u001b[39m]\n",
      "File \u001b[0;32m~/.local/lib/python3.11/site-packages/panel/param.py:770\u001b[0m, in \u001b[0;36mParamMethod.__init__\u001b[0;34m(self, object, **params)\u001b[0m\n\u001b[1;32m    768\u001b[0m \u001b[39mself\u001b[39m\u001b[39m.\u001b[39m_validate_object()\n\u001b[1;32m    769\u001b[0m \u001b[39mif\u001b[39;00m \u001b[39mnot\u001b[39;00m \u001b[39mself\u001b[39m\u001b[39m.\u001b[39mdefer_load:\n\u001b[0;32m--> 770\u001b[0m     \u001b[39mself\u001b[39;49m\u001b[39m.\u001b[39;49m_replace_pane()\n",
      "File \u001b[0;32m~/.local/lib/python3.11/site-packages/panel/param.py:815\u001b[0m, in \u001b[0;36mParamMethod._replace_pane\u001b[0;34m(self, force, *args)\u001b[0m\n\u001b[1;32m    813\u001b[0m     new_object \u001b[39m=\u001b[39m Spacer()\n\u001b[1;32m    814\u001b[0m \u001b[39melse\u001b[39;00m:\n\u001b[0;32m--> 815\u001b[0m     new_object \u001b[39m=\u001b[39m \u001b[39mself\u001b[39;49m\u001b[39m.\u001b[39;49meval(\u001b[39mself\u001b[39;49m\u001b[39m.\u001b[39;49mobject)\n\u001b[1;32m    816\u001b[0m \u001b[39mif\u001b[39;00m inspect\u001b[39m.\u001b[39misawaitable(new_object):\n\u001b[1;32m    817\u001b[0m     param\u001b[39m.\u001b[39mparameterized\u001b[39m.\u001b[39masync_executor(partial(\u001b[39mself\u001b[39m\u001b[39m.\u001b[39m_eval_async, new_object))\n",
      "File \u001b[0;32m~/.local/lib/python3.11/site-packages/panel/param.py:795\u001b[0m, in \u001b[0;36mParamMethod.eval\u001b[0;34m(self, function)\u001b[0m\n\u001b[1;32m    793\u001b[0m \u001b[39m@classmethod\u001b[39m\n\u001b[1;32m    794\u001b[0m \u001b[39mdef\u001b[39;00m \u001b[39meval\u001b[39m(\u001b[39mself\u001b[39m, function):\n\u001b[0;32m--> 795\u001b[0m     \u001b[39mreturn\u001b[39;00m eval_function(function)\n",
      "File \u001b[0;32m~/.local/lib/python3.11/site-packages/panel/util/__init__.py:325\u001b[0m, in \u001b[0;36meval_function\u001b[0;34m(function)\u001b[0m\n\u001b[1;32m    323\u001b[0m         args \u001b[39m=\u001b[39m (\u001b[39mgetattr\u001b[39m(dep\u001b[39m.\u001b[39mowner, dep\u001b[39m.\u001b[39mname) \u001b[39mfor\u001b[39;00m dep \u001b[39min\u001b[39;00m arg_deps)\n\u001b[1;32m    324\u001b[0m         kwargs \u001b[39m=\u001b[39m {n: \u001b[39mgetattr\u001b[39m(dep\u001b[39m.\u001b[39mowner, dep\u001b[39m.\u001b[39mname) \u001b[39mfor\u001b[39;00m n, dep \u001b[39min\u001b[39;00m kw_deps\u001b[39m.\u001b[39mitems()}\n\u001b[0;32m--> 325\u001b[0m \u001b[39mreturn\u001b[39;00m function(\u001b[39m*\u001b[39;49margs, \u001b[39m*\u001b[39;49m\u001b[39m*\u001b[39;49mkwargs)\n",
      "File \u001b[0;32m~/.local/lib/python3.11/site-packages/param/parameterized.py:407\u001b[0m, in \u001b[0;36mdepends.<locals>._depends\u001b[0;34m(*args, **kw)\u001b[0m\n\u001b[1;32m    405\u001b[0m \u001b[39m@wraps\u001b[39m(func)\n\u001b[1;32m    406\u001b[0m \u001b[39mdef\u001b[39;00m \u001b[39m_depends\u001b[39m(\u001b[39m*\u001b[39margs, \u001b[39m*\u001b[39m\u001b[39m*\u001b[39mkw):\n\u001b[0;32m--> 407\u001b[0m     \u001b[39mreturn\u001b[39;00m func(\u001b[39m*\u001b[39;49margs, \u001b[39m*\u001b[39;49m\u001b[39m*\u001b[39;49mkw)\n",
      "File \u001b[0;32m~/.local/lib/python3.11/site-packages/panel/depends.py:229\u001b[0m, in \u001b[0;36m_param_bind.<locals>.wrapped\u001b[0;34m(*wargs, **wkwargs)\u001b[0m\n\u001b[1;32m    226\u001b[0m \u001b[39m@depends\u001b[39m(\u001b[39m*\u001b[39m\u001b[39m*\u001b[39mdependencies, watch\u001b[39m=\u001b[39mwatch)\n\u001b[1;32m    227\u001b[0m \u001b[39mdef\u001b[39;00m \u001b[39mwrapped\u001b[39m(\u001b[39m*\u001b[39mwargs, \u001b[39m*\u001b[39m\u001b[39m*\u001b[39mwkwargs):\n\u001b[1;32m    228\u001b[0m     combined_args, combined_kwargs \u001b[39m=\u001b[39m combine_arguments(wargs, wkwargs)\n\u001b[0;32m--> 229\u001b[0m     \u001b[39mreturn\u001b[39;00m eval_fn()(\u001b[39m*\u001b[39;49mcombined_args, \u001b[39m*\u001b[39;49m\u001b[39m*\u001b[39;49mcombined_kwargs)\n",
      "File \u001b[0;32m~/.local/lib/python3.11/site-packages/panel/io/cache.py:402\u001b[0m, in \u001b[0;36mcache.<locals>.wrapped_func\u001b[0;34m(*args, **kwargs)\u001b[0m\n\u001b[1;32m    399\u001b[0m \u001b[39mif\u001b[39;00m max_items \u001b[39mis\u001b[39;00m \u001b[39mnot\u001b[39;00m \u001b[39mNone\u001b[39;00m:\n\u001b[1;32m    400\u001b[0m     _cleanup_cache(func_cache, policy, max_items, time)\n\u001b[0;32m--> 402\u001b[0m ret \u001b[39m=\u001b[39m func(\u001b[39m*\u001b[39;49margs, \u001b[39m*\u001b[39;49m\u001b[39m*\u001b[39;49mkwargs)\n\u001b[1;32m    403\u001b[0m \u001b[39mwith\u001b[39;00m lock:\n\u001b[1;32m    404\u001b[0m     func_cache[hash_value] \u001b[39m=\u001b[39m (ret, time, \u001b[39m0\u001b[39m, time)\n",
      "\u001b[1;32m/home/priscila/Mestrado/panel_dashboard/Interactive_dashboard.ipynb Cell 8\u001b[0m line \u001b[0;36m1\n\u001b[1;32m     <a href='vscode-notebook-cell:/home/priscila/Mestrado/panel_dashboard/Interactive_dashboard.ipynb#X33sZmlsZQ%3D%3D?line=11'>12</a>\u001b[0m \u001b[39mfor\u001b[39;00m i \u001b[39min\u001b[39;00m \u001b[39mrange\u001b[39m(n):\n\u001b[1;32m     <a href='vscode-notebook-cell:/home/priscila/Mestrado/panel_dashboard/Interactive_dashboard.ipynb#X33sZmlsZQ%3D%3D?line=12'>13</a>\u001b[0m     ax \u001b[39m=\u001b[39m fig\u001b[39m.\u001b[39madd_subplot(gs[\u001b[39m0\u001b[39m, i])\n\u001b[0;32m---> <a href='vscode-notebook-cell:/home/priscila/Mestrado/panel_dashboard/Interactive_dashboard.ipynb#X33sZmlsZQ%3D%3D?line=13'>14</a>\u001b[0m     ax\u001b[39m.\u001b[39mplot(time, df[cols[i]])\n\u001b[1;32m     <a href='vscode-notebook-cell:/home/priscila/Mestrado/panel_dashboard/Interactive_dashboard.ipynb#X33sZmlsZQ%3D%3D?line=14'>15</a>\u001b[0m     ax\u001b[39m.\u001b[39mset_ylabel(cols[i])\n\u001b[1;32m     <a href='vscode-notebook-cell:/home/priscila/Mestrado/panel_dashboard/Interactive_dashboard.ipynb#X33sZmlsZQ%3D%3D?line=15'>16</a>\u001b[0m     ax\u001b[39m.\u001b[39mset_xlabel(\u001b[39m'\u001b[39m\u001b[39mtime\u001b[39m\u001b[39m'\u001b[39m)\n",
      "File \u001b[0;32m~/.local/lib/python3.11/site-packages/pandas/core/frame.py:3761\u001b[0m, in \u001b[0;36mDataFrame.__getitem__\u001b[0;34m(self, key)\u001b[0m\n\u001b[1;32m   3759\u001b[0m \u001b[39mif\u001b[39;00m \u001b[39mself\u001b[39m\u001b[39m.\u001b[39mcolumns\u001b[39m.\u001b[39mnlevels \u001b[39m>\u001b[39m \u001b[39m1\u001b[39m:\n\u001b[1;32m   3760\u001b[0m     \u001b[39mreturn\u001b[39;00m \u001b[39mself\u001b[39m\u001b[39m.\u001b[39m_getitem_multilevel(key)\n\u001b[0;32m-> 3761\u001b[0m indexer \u001b[39m=\u001b[39m \u001b[39mself\u001b[39;49m\u001b[39m.\u001b[39;49mcolumns\u001b[39m.\u001b[39;49mget_loc(key)\n\u001b[1;32m   3762\u001b[0m \u001b[39mif\u001b[39;00m is_integer(indexer):\n\u001b[1;32m   3763\u001b[0m     indexer \u001b[39m=\u001b[39m [indexer]\n",
      "File \u001b[0;32m~/.local/lib/python3.11/site-packages/pandas/core/indexes/base.py:3654\u001b[0m, in \u001b[0;36mIndex.get_loc\u001b[0;34m(self, key)\u001b[0m\n\u001b[1;32m   3652\u001b[0m     \u001b[39mreturn\u001b[39;00m \u001b[39mself\u001b[39m\u001b[39m.\u001b[39m_engine\u001b[39m.\u001b[39mget_loc(casted_key)\n\u001b[1;32m   3653\u001b[0m \u001b[39mexcept\u001b[39;00m \u001b[39mKeyError\u001b[39;00m \u001b[39mas\u001b[39;00m err:\n\u001b[0;32m-> 3654\u001b[0m     \u001b[39mraise\u001b[39;00m \u001b[39mKeyError\u001b[39;00m(key) \u001b[39mfrom\u001b[39;00m \u001b[39merr\u001b[39;00m\n\u001b[1;32m   3655\u001b[0m \u001b[39mexcept\u001b[39;00m \u001b[39mTypeError\u001b[39;00m:\n\u001b[1;32m   3656\u001b[0m     \u001b[39m# If we have a listlike key, _check_indexing_error will raise\u001b[39;00m\n\u001b[1;32m   3657\u001b[0m     \u001b[39m#  InvalidIndexError. Otherwise we fall through and re-raise\u001b[39;00m\n\u001b[1;32m   3658\u001b[0m     \u001b[39m#  the TypeError.\u001b[39;00m\n\u001b[1;32m   3659\u001b[0m     \u001b[39mself\u001b[39m\u001b[39m.\u001b[39m_check_indexing_error(key)\n",
      "\u001b[0;31mKeyError\u001b[0m: 's'"
     ]
    },
    {
     "data": {
      "image/png": "[encoded data removed]",
      "text/plain": [
       "<Figure size 640x480 with 1 Axes>"
      ]
     },
     "metadata": {},
     "output_type": "display_data"
    }
   ],
   "source": [
    "figure = pn.bind(plot, select, 'shoulderLangle',None, 1)\n",
    "pn.Tabs('Bla',figure)"
   ]
  },
  {
   "cell_type": "code",
   "execution_count": null,
   "id": "26376b9d",
   "metadata": {},
   "outputs": [],
   "source": [
    "body_parts = (\"shoulder\",\"elbow\",\"knee\",\"wrist\",\"hip\",\"ankle\")"
   ]
  },
  {
   "cell_type": "code",
   "execution_count": null,
   "id": "be065a82",
   "metadata": {},
   "outputs": [],
   "source": [
    "tab_0 = pn.Tabs()\n",
    "for part in body_parts:\n",
    "    fig_0 = pn.bind(plot, select,(\"\".join((\"l\",\"_\",part,\"X\")),\"\".join((\"l\",\"_\",part,\"Y\"))),\"\".join((\"l\",\"_\",part,\"Z\")),2)\n",
    "    tab_0.append((part, fig_0))\n",
    "    tab_0.append((part, fig_1))\n",
    "    "
   ]
  },
  {
   "cell_type": "code",
   "execution_count": null,
   "id": "0ffc9db7",
   "metadata": {},
   "outputs": [],
   "source": [
    "tab_1 = pn.Tabs()\n",
    "for part in body_parts:\n",
    "    fig_0 = pn.bind(plot, select,(\"\".join((\"l\",\"_\",part,\"X\")),\"\".join((\"l\",\"_\",part,\"Y\"))),\"\".join((\"l\",\"_\",part,\"Z\")),2)\n",
    "    tab_0.append((part, fig_0))\n",
    "    "
   ]
  },
  {
   "cell_type": "markdown",
   "id": "f696063c",
   "metadata": {},
   "source": []
  },
  {
   "cell_type": "markdown",
   "id": "3d230a16",
   "metadata": {},
   "source": [
    "## Tabs"
   ]
  },
  {
   "cell_type": "markdown",
   "id": "023f1fb1",
   "metadata": {},
   "source": [
    "## Create the Template"
   ]
  },
  {
   "cell_type": "code",
   "execution_count": null,
   "id": "438f8daa-0017-4cb2-a8cb-c86784a6ab52",
   "metadata": {},
   "outputs": [],
   "source": [
    "#Layout using Template\n",
    "template = pn.template.BootstrapTemplate(\n",
    "    title='Data analysis for motor disabilities rehabilitation of the upper limbs using augmented reality', \n",
    "    sidebar=[pn.pane.Markdown(\"\"), \n",
    "             pn.pane.Markdown(\"#### Choose the dataframe\"), \n",
    "             select_df,\n",
    "            ],\n",
    "    main= [pn.Row(tab_0, tab_0)],\n",
    "    accent_base_color=\"#87d8b1\",\n",
    "    header_background=\"#8508b0\",\n",
    ")\n",
    "template.show()\n",
    "template.servable();"
   ]
  },
  {
   "cell_type": "code",
   "execution_count": null,
   "id": "f541ff1d",
   "metadata": {},
   "outputs": [],
   "source": []
  }
 ],
 "metadata": {
  "kernelspec": {
   "display_name": "Python 3 (ipykernel)",
   "language": "python",
   "name": "python3"
  },
  "language_info": {
   "codemirror_mode": {
    "name": "ipython",
    "version": 3
   },
   "file_extension": ".py",
   "mimetype": "text/x-python",
   "name": "python",
   "nbconvert_exporter": "python",
   "pygments_lexer": "ipython3",
   "version": "3.11.3"
  },
  "vscode": {
   "interpreter": {
    "hash": "767d51c1340bd893661ea55ea3124f6de3c7a262a8b4abca0554b478b1e2ff90"
   }
  }
 },
 "nbformat": 4,
 "nbformat_minor": 5
}
