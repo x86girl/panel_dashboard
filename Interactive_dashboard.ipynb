{
 "cells": [
  {
   "cell_type": "code",
   "execution_count": null,
   "id": "fdc9dea9-977d-47ec-a607-c4302a010733",
   "metadata": {},
   "outputs": [],
   "source": [
    "from io import BytesIO\n",
    "\n",
    "import pandas as pd\n",
    "import numpy as np\n",
    "import numpy\n",
    "import panel as pn\n",
    "pn.extension('tabulator')\n",
    "import matplotlib.pyplot as plt\n",
    "import hvplot.pandas\n",
    "import matplotlib.gridspec as gridspec\n",
    "import matplotlib\n",
    "import holoviews as hv\n",
    "import param\n",
    "import scipy\n",
    "from scipy.signal import find_peaks, peak_prominences"
   ]
  },
  {
   "cell_type": "code",
   "execution_count": null,
   "id": "8eda6996",
   "metadata": {},
   "outputs": [],
   "source": [
    "cm = 1/2.54  # centimeters in inches"
   ]
  },
  {
   "cell_type": "markdown",
   "id": "00f80555",
   "metadata": {},
   "source": [
    "## Color"
   ]
  },
  {
   "cell_type": "code",
   "execution_count": null,
   "id": "bc220adb",
   "metadata": {},
   "outputs": [],
   "source": [
    "from itertools import cycle\n",
    "main_colours = ['yellow', 'navajowhite', 'orange','orangered','red','darkslateblue','mediumpurple','green','yellowgreen','cyan','lightblue']\n",
    "l_main_colours = cycle(main_colours)\n",
    "r_main_colours = cycle(main_colours[::-1])\n",
    "l_sub_colours = cycle(main_colours)\n",
    "r_sub_colours = cycle(main_colours[::-1])"
   ]
  },
  {
   "cell_type": "code",
   "execution_count": null,
   "id": "d9dd1b7a",
   "metadata": {},
   "outputs": [],
   "source": [
    "def get_number_of_rows(dataframe):\n",
    "    df = pd.read_csv(dataframe)\n",
    "    return df.shape[0]"
   ]
  },
  {
   "cell_type": "code",
   "execution_count": null,
   "id": "f811a9fa",
   "metadata": {},
   "outputs": [],
   "source": [
    "def iqr(array):\n",
    "    q3, q1 = np.percentile(array,[75,25])\n",
    "    IQR = q3 - q1\n",
    "    upper_bound = q3 + 1.5*IQR\n",
    "    lower_bound = q1 - 1.5*IQR\n",
    "    return lower_bound, upper_bound"
   ]
  },
  {
   "cell_type": "code",
   "execution_count": null,
   "id": "df79d7d2",
   "metadata": {},
   "outputs": [],
   "source": [
    "@pn.cache\n",
    "def fetch_data(dataframe_list):\n",
    "    size = []\n",
    "    data_frames = []\n",
    "    for data in dataframe_list:\n",
    "        df = pd.read_csv(data)\n",
    "        df.drop('time', axis = 1, inplace = True)\n",
    "        df.insert(0,'time',df.index.values)\n",
    "        df = df.fillna(0)\n",
    "        size.append(df.shape[0])\n",
    "        data_frames.append(df)\n",
    "        minsize = min(size)\n",
    "    return data_frames, minsize\n",
    "\n",
    "\n",
    "def cut_data(df, maxsize):\n",
    "    for column in df.keys():\n",
    "        upper_bound = maxsize\n",
    "        df = df[df[column] < upper_bound ]\n",
    "    return df"
   ]
  },
  {
   "cell_type": "markdown",
   "id": "607e820c",
   "metadata": {},
   "source": [
    "## Define widgets"
   ]
  },
  {
   "cell_type": "code",
   "execution_count": null,
   "id": "7d3a9e41",
   "metadata": {},
   "outputs": [],
   "source": [
    "file_input = pn.widgets.FileInput( sizing_mode='stretch_width',\n",
    "                                  multiple=True)"
   ]
  },
  {
   "cell_type": "code",
   "execution_count": null,
   "id": "7365ec06",
   "metadata": {},
   "outputs": [],
   "source": [
    "def show_peaks(limbangle, ERROR = 50):\n",
    "    limbangle = np.asarray(limbangle)\n",
    "    peaks, _ = scipy.signal.find_peaks(x = limbangle, height = 0, prominence=(4, None))\n",
    "    prominences = peak_prominences(limbangle, peaks)[0]\n",
    "    contour_heights = limbangle[peaks] - prominences\n",
    "\n",
    "    index = []\n",
    "    i = 0\n",
    "    for item in peaks:\n",
    "        if limbangle[item] < ERROR:\n",
    "            index.append(i)\n",
    "        i += 1\n",
    "    peaks = np.delete(peaks, index)\n",
    "    contour_heights = np.delete(contour_heights,index)\n",
    "    return peaks, contour_heights\n"
   ]
  },
  {
   "cell_type": "code",
   "execution_count": null,
   "id": "bccc53da",
   "metadata": {},
   "outputs": [],
   "source": [
    "columns = ['shoulder','elbow','knee','hip']\n",
    "select_column = pn.widgets.Select(options=columns)\n",
    "direction = ['l','r']\n",
    "select_direction =  pn.widgets.Select(options=direction)"
   ]
  },
  {
   "cell_type": "code",
   "execution_count": null,
   "id": "8ca855ef",
   "metadata": {},
   "outputs": [],
   "source": []
  },
  {
   "cell_type": "code",
   "execution_count": null,
   "id": "c8ceef9f",
   "metadata": {},
   "outputs": [],
   "source": [
    "def plot(data = None, limb = 'shoulder',direction = 'l', size = (50*cm, 25*cm)):\n",
    "    fig =  plt.figure(num=1, clear=True, figsize=size)\n",
    "    spec = fig.add_gridspec(ncols=2, nrows=2)\n",
    "    ax0 = fig.add_subplot(spec[0, :])\n",
    "    ax1 = fig.add_subplot(spec[1, 0])\n",
    "    ax2 = fig.add_subplot(spec[1, 1])\n",
    "    ymax = 1.0\n",
    "    if file_input.filename != None:    \n",
    "        dataframes, min_size = fetch_data(file_input.filename)\n",
    "        for data in dataframes:\n",
    "            data = cut_data(data, min_size)\n",
    "            limbLangle = scipy.signal.savgol_filter(data[limb + \"L\" + \"angle\"].to_numpy(),51,3)\n",
    "            limbRangle = scipy.signal.savgol_filter(data[limb + \"R\" + \"angle\"].to_numpy(),51,3)\n",
    "            ax0.plot(limbLangle,color = next(l_main_colours))\n",
    "            ax0.plot(limbRangle, color = next(r_main_colours))\n",
    "            peaks_l, contour_l = show_peaks(limbLangle, 45)\n",
    "            peaks_r, contour_r = show_peaks(limbRangle, 45)\n",
    "            ax0.plot(peaks_l, limbLangle[peaks_l], \"x\")\n",
    "            ax0.vlines(x=peaks_l, ymin=contour_l, ymax=limbLangle[peaks_l])\n",
    "            ax0.plot(peaks_r, limbRangle[peaks_r], \"x\")\n",
    "            ax0.vlines(x=peaks_r, ymin=contour_r, ymax=limbRangle[peaks_r])\n",
    "            ax0.set_title(limb + \"L\" + \"angle & \"+limb +\"R\" + \"angle\")\n",
    "            if ax0.get_ylim()[1] > ymax:\n",
    "                ymax = ax0.get_ylim()[1]\n",
    "            ax1.set_title(limb + \"L\" + \"angle\")\n",
    "            ax1.plot(limbLangle,color = next(l_sub_colours))\n",
    "            ax2.set_title(limb + \"R\" + \"angle\")\n",
    "            ax2.plot(limbRangle, color = next(r_sub_colours))\n",
    "            peaks_l, contour_l = show_peaks(limbLangle, 45)\n",
    "            peaks_r, contour_r = show_peaks(limbRangle, 45)\n",
    "\n",
    "            ax1.plot(peaks_l, limbLangle[peaks_l], \"x\")\n",
    "            ax1.vlines(x=peaks_l, ymin=contour_l, ymax=limbLangle[peaks_l])\n",
    "            ax2.plot(peaks_r, limbRangle[peaks_r], \"x\")\n",
    "            ax2.vlines(x=peaks_r, ymin=contour_r, ymax=limbRangle[peaks_r])\n",
    "        fig.set_size_inches(size)\n",
    "        ax0.set_ylim(0,ymax)\n",
    "        ax1.set_ylim(0,ymax)\n",
    "        ax2.set_ylim(0,ymax)\n",
    "        ax0.set(xlabel='frequency (Hz)', ylabel='amplitude (degrees)')\n",
    "        ax1.set(xlabel='frequency (Hz)', ylabel='amplitude (degrees)')\n",
    "        ax2.set(xlabel='frequency (Hz)', ylabel='amplitude (degrees)')\n",
    "    return fig"
   ]
  },
  {
   "cell_type": "markdown",
   "id": "f2404881",
   "metadata": {},
   "source": [
    "## Define context binding widgets"
   ]
  },
  {
   "cell_type": "code",
   "execution_count": null,
   "id": "8fd654c3",
   "metadata": {},
   "outputs": [],
   "source": [
    "def upload_files(files_ = None):\n",
    "    if file_input.filename != None:\n",
    "        file_input.save(file_input.filename)\n",
    "\n",
    "selected = pn.bind(upload_files,file_input, watch = True)\n"
   ]
  },
  {
   "cell_type": "code",
   "execution_count": null,
   "id": "8b9213ad",
   "metadata": {},
   "outputs": [],
   "source": [
    "selector = pn.widgets.MultiSelect(name=' ', sizing_mode='stretch_width',\n",
    "options=['Add your files here'])\n",
    "\n",
    "def update_selector(selector_widget = None, input = None):\n",
    "    if file_input.filename != None:\n",
    "        selector.options = file_input.filename\n",
    "    else:\n",
    "        selector.options =['Add your files here']\n",
    "    return selector\n",
    "selector_widget = pn.bind(update_selector, selector, file_input, watch = True)\n",
    "\n"
   ]
  },
  {
   "cell_type": "markdown",
   "id": "8bdf7263",
   "metadata": {},
   "source": [
    "## Debug button"
   ]
  },
  {
   "cell_type": "markdown",
   "id": "b4cf5597",
   "metadata": {},
   "source": []
  },
  {
   "cell_type": "code",
   "execution_count": null,
   "id": "76eb6603",
   "metadata": {},
   "outputs": [],
   "source": [
    "button = pn.widgets.Button(name='Debug', button_type='primary')\n",
    "text = pn.widgets.TextInput(value='Ready')\n",
    "\n",
    "def b(event):\n",
    "    breakpoint()\n",
    "def debug(event):\n",
    "    breakpoint()\n",
    "button.on_click(b)\n"
   ]
  },
  {
   "cell_type": "markdown",
   "id": "6c0eb5d1",
   "metadata": {},
   "source": [
    "## Tab 1 (sidebar & main tab 1)"
   ]
  },
  {
   "cell_type": "code",
   "execution_count": null,
   "id": "8c55f54b",
   "metadata": {},
   "outputs": [],
   "source": [
    "exercises = ['e-pong','e-Invaders','e-Puzzle','e-Counter']\n",
    "selected_exercises = pn.widgets.Select(options = exercises)"
   ]
  },
  {
   "cell_type": "code",
   "execution_count": null,
   "id": "dce1263c",
   "metadata": {},
   "outputs": [],
   "source": [
    "def iqr(array):\n",
    "    q3, q1 = np.percentile(array,[75,25])\n",
    "    IQR = q3 - q1\n",
    "    upper_bound = q3 + 1.5*IQR\n",
    "    lower_bound = q1 - 1.5*IQR\n",
    "    return lower_bound, upper_bound"
   ]
  },
  {
   "cell_type": "code",
   "execution_count": null,
   "id": "f682312e",
   "metadata": {},
   "outputs": [],
   "source": [
    "def boxplot(ywq = None, sdsd = None,direction = 'l'):\n",
    "    labels = ['left','right']\n",
    "    fig =  plt.figure(num=1, clear=True, figsize=(15*cm, 8*cm))\n",
    "    spec = fig.add_gridspec(ncols=2, nrows=2)\n",
    "    ax0 = fig.add_subplot(spec[0, 0])\n",
    "    ax1 = fig.add_subplot(spec[0, 1])\n",
    "    ax2 = fig.add_subplot(spec[1, 0])\n",
    "    ax3 = fig.add_subplot(spec[1, 1])\n",
    "    data = selector.value\n",
    "    limb = [\"shoulder\",\"knee\",\"hip\",\"elbow\"]\n",
    "    if not not data: \n",
    "        df = fetch_data(data)[0][0]\n",
    "        ax0.boxplot((df[limb[0] + \"L\" + \"angle\"].to_numpy(),df[limb[0] + \"R\" + \"angle\"].to_numpy() ), notch=True, vert = True, patch_artist= True, labels=labels)\n",
    "        ax0.yaxis.grid(True)\n",
    "        #ax0.set_xlabel('Three separate samples')\n",
    "        ax0.set_ylabel('Observed values')\n",
    "        ax0.set_title('Shoulder')\n",
    "\n",
    "        ax1.boxplot((df[limb[1] + \"L\" + \"angle\"].to_numpy(),df[limb[1] + \"R\" + \"angle\"].to_numpy() ), notch=True, vert = True, patch_artist= True, labels=labels)\n",
    "        ax1.yaxis.grid(True)\n",
    "        #ax1.set_xlabel('Three separate samples')\n",
    "        ax1.set_ylabel('Observed values')\n",
    "        ax1.set_title('Hip')\n",
    "\n",
    "\n",
    "        ax2.boxplot((df[limb[2] + \"L\" + \"angle\"].to_numpy(),df[limb[2] + \"R\" + \"angle\"].to_numpy() ), notch=True, vert = True, patch_artist= True, labels=labels)\n",
    "        ax2.yaxis.grid(True)\n",
    "        #ax2.set_xlabel('Three separate samples')\n",
    "        ax2.set_ylabel('Observed values')\n",
    "        ax2.set_title('Knee')\n",
    "\n",
    "        ax3.boxplot((df[limb[3] + \"L\" + \"angle\"].to_numpy(),df[limb[3] + \"R\" + \"angle\"].to_numpy() ), notch=True, vert = True, patch_artist= True, labels=labels)\n",
    "        ax3.yaxis.grid(True)\n",
    "        #ax3.set_xlabel('Three separate samples')\n",
    "        ax3.set_ylabel('Observed values')\n",
    "        ax3.set_title('Elbow')\n",
    "    return fig"
   ]
  },
  {
   "cell_type": "markdown",
   "id": "61266233",
   "metadata": {},
   "source": [
    "## Tab 2"
   ]
  },
  {
   "cell_type": "code",
   "execution_count": null,
   "id": "95e0f963",
   "metadata": {},
   "outputs": [],
   "source": [
    "def plot_details(data = None, limb = 'shoulder', direction = 'l', size = (15*cm, 8*cm)):\n",
    "    fig =   plt.figure(num=1, clear=True, figsize=size)\n",
    "    spec = fig.add_gridspec(ncols=1, nrows=1)\n",
    "    ax = fig.add_subplot(spec[0, :])\n",
    "    if not not selector.value:\n",
    "        data, min_size = fetch_data(selector.value)\n",
    "        [data] = data\n",
    "        limbLangle = scipy.signal.savgol_filter(data[limb + \"L\" + \"angle\"].to_numpy(),51,3)\n",
    "        limbRangle = scipy.signal.savgol_filter(data[limb + \"R\" + \"angle\"].to_numpy(),51,3)\n",
    "        ax.plot(limbLangle,color = next(l_main_colours))\n",
    "        ax.plot(limbRangle, color = next(r_main_colours))\n",
    "        peaks_l, contour_l = show_peaks(limbLangle, 45)\n",
    "        peaks_r, contour_r = show_peaks(limbRangle, 45) \n",
    "\n",
    "        ax.plot(peaks_l, limbLangle[peaks_l], \"x\")\n",
    "        ax.vlines(x=peaks_l, ymin=contour_l, ymax=limbLangle[peaks_l])\n",
    "        ax.plot(peaks_r, limbRangle[peaks_r], \"x\")\n",
    "        ax.vlines(x=peaks_r, ymin=contour_r, ymax=limbRangle[peaks_r])\n",
    "        ax.set_title(limb + \"L\" + \"angle & \"+limb +\"R\" + \"angle\") \n",
    "        ax.set(xlabel='frequency (Hz)', ylabel='amplitude (degrees)')\n",
    "    return fig\n",
    "\n"
   ]
  },
  {
   "cell_type": "code",
   "execution_count": null,
   "id": "510fdcc9",
   "metadata": {},
   "outputs": [],
   "source": []
  },
  {
   "cell_type": "code",
   "execution_count": null,
   "id": "1b090fe0",
   "metadata": {},
   "outputs": [],
   "source": [
    "\n",
    "details_widget = pn.bind(plot_details,selector, select_column, selector_widget,watch= True)\n",
    "boxplot_widget = pn.bind(boxplot,selector,selector_widget,watch= True)\n",
    "main_widget = pn.bind(plot,file_input,select_column,select_direction, watch = True)\n"
   ]
  },
  {
   "cell_type": "markdown",
   "id": "023f1fb1",
   "metadata": {},
   "source": [
    "## Create the Template"
   ]
  },
  {
   "cell_type": "code",
   "execution_count": null,
   "id": "438f8daa-0017-4cb2-a8cb-c86784a6ab52",
   "metadata": {},
   "outputs": [],
   "source": [
    "#Layout using Template\n",
    "template = pn.template.BootstrapTemplate(\n",
    "    title='Data analysis for motor disabilities rehabilitation of the upper limbs using augmented reality', \n",
    "    sidebar=[pn.pane.Markdown(\"\"), \n",
    "             file_input,\n",
    "             button,\n",
    "             select_column,\n",
    "             select_direction,\n",
    "             pn.pane.Markdown(\"### Selected Files\"), \n",
    "             selector_widget,\n",
    "             pn.pane.Markdown(\"### Select the exercise\"),\n",
    "             selected_exercises\n",
    "            ],\n",
    "    main=[ pn.Tabs((\"Main\", main_widget),(\"Details\", pn.Row(details_widget, boxplot_widget)))],\n",
    "    header_background='purple',\n",
    ")\n",
    "template.show()\n",
    "template.servable();"
   ]
  },
  {
   "cell_type": "markdown",
   "id": "00e1a33d",
   "metadata": {},
   "source": []
  }
 ],
 "metadata": {
  "kernelspec": {
   "display_name": "Python 3 (ipykernel)",
   "language": "python",
   "name": "python3"
  },
  "language_info": {
   "codemirror_mode": {
    "name": "ipython",
    "version": 3
   },
   "file_extension": ".py",
   "mimetype": "text/x-python",
   "name": "python",
   "nbconvert_exporter": "python",
   "pygments_lexer": "ipython3",
   "version": "3.9.18"
  },
  "vscode": {
   "interpreter": {
    "hash": "767d51c1340bd893661ea55ea3124f6de3c7a262a8b4abca0554b478b1e2ff90"
   }
  }
 },
 "nbformat": 4,
 "nbformat_minor": 5
}
