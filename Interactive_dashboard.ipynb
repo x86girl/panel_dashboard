{
 "cells": [
  {
   "cell_type": "code",
   "execution_count": null,
   "id": "fdc9dea9-977d-47ec-a607-c4302a010733",
   "metadata": {},
   "outputs": [],
   "source": [
    "from io import BytesIO\n",
    "\n",
    "import pandas as pd\n",
    "import numpy as np\n",
    "import panel as pn\n",
    "pn.extension('tabulator')\n",
    "import matplotlib.pyplot as plt\n",
    "import hvplot.pandas\n",
    "import matplotlib.gridspec as gridspec\n",
    "import matplotlib\n",
    "import holoviews as hv\n"
   ]
  },
  {
   "cell_type": "code",
   "execution_count": null,
   "id": "8eda6996",
   "metadata": {},
   "outputs": [],
   "source": [
    "cm = 1/2.54  # centimeters in inches"
   ]
  },
  {
   "cell_type": "code",
   "execution_count": null,
   "id": "d9dd1b7a",
   "metadata": {},
   "outputs": [],
   "source": [
    "def get_number_of_rows(dataframe):\n",
    "    df = pd.read_csv(dataframe)\n",
    "    return df.shape[0]"
   ]
  },
  {
   "cell_type": "code",
   "execution_count": null,
   "id": "a296e7e3",
   "metadata": {
    "scrolled": true
   },
   "outputs": [],
   "source": [
    "import os\n",
    "def scandir(event = None):\n",
    "    path = '../data'\n",
    "    files = os.listdir(path)\n",
    "    path_files = [path + '/'+ string for string in files]\n",
    "    number_of_rows = [get_number_of_rows(dataframe) for dataframe in path_files]\n",
    "    #dict_values = [(file_name, n_rows) for file_name, n_rows in zip(path_files, number_of_rows) ]\n",
    "    file_entries = dict(zip(files,path_files))\n",
    "    file_rows = dict(zip(path_files,number_of_rows))\n",
    "    return number_of_rows, file_entries, file_rows \n",
    "number_of_rows, file_entries, file_rows = scandir()"
   ]
  },
  {
   "cell_type": "code",
   "execution_count": null,
   "id": "f811a9fa",
   "metadata": {},
   "outputs": [],
   "source": [
    "def iqr(array):\n",
    "    q3, q1 = np.percentile(array,[75,25])\n",
    "    IQR = q3 - q1\n",
    "    upper_bound = q3 + 1.5*IQR\n",
    "    lower_bound = q1 - 1.5*IQR\n",
    "    return lower_bound, upper_bound"
   ]
  },
  {
   "cell_type": "code",
   "execution_count": null,
   "id": "df79d7d2",
   "metadata": {},
   "outputs": [],
   "source": [
    "select = pn.widgets.Select(options=file_entries)\n",
    "\n",
    "@pn.cache\n",
    "def fetch_data(url):\n",
    "    df = pd.read_csv(url)\n",
    "    df.drop('time', axis = 1, inplace = True)\n",
    "    df.insert(0,'time',df.index.values)\n",
    "    df = df.fillna(0)\n",
    "    for column in df.keys():\n",
    "        lower_bound, upper_bound =iqr(df[column].to_numpy())\n",
    "        df = df[df[column] > lower_bound ]\n",
    "        df = df[df[column] < upper_bound ]\n",
    "\n",
    "\n",
    "    return df\n",
    "\n",
    "\n"
   ]
  },
  {
   "cell_type": "code",
   "execution_count": null,
   "metadata": {},
   "outputs": [],
   "source": [
    "MB = 1024*1024\n",
    "MIN_SIZE= 1 * MB\n",
    "SAVE_PATH = '../data'\n",
    "file_input = pn.widgets.FileInput(accept='.csv', multiple = True)\n",
    "\n",
    "def upload_file(event):\n",
    "    if file_input is not None:\n",
    "        file_input.save(file_input.filename)\n"
   ]
  },
  {
   "cell_type": "code",
   "execution_count": null,
   "metadata": {},
   "outputs": [],
   "source": [
    "def get_data(event):\n",
    "    if file_input is None:\n",
    "        return_data = None\n",
    "    else:\n",
    "        return_data = BytesIO(file_input)\n",
    "        with open(file_input.filename, \"wb\") as f:\n",
    "            f.write('../data/'return_data).getbuffer()"
   ]
  },
  {
   "cell_type": "code",
   "execution_count": null,
   "metadata": {},
   "outputs": [],
   "source": [
    "file_input.param.watch(get_data,'value')"
   ]
  },
  {
   "cell_type": "code",
   "execution_count": null,
   "id": "c8ceef9f",
   "metadata": {},
   "outputs": [],
   "source": [
    "@pn.cache\n",
    "def plot(df = None, limb = 'shoulder',direction = 'l', color_0 = 'goldenrod',color_1 = 'coral'):\n",
    "    data = fetch_data(df)    \n",
    "    fig  = plt.figure(num=1, clear=True, figsize=(25*cm, 15*cm))\n",
    "    spec = fig.add_gridspec(ncols=2, nrows=2)\n",
    "    ax0 = fig.add_subplot(spec[0, :])\n",
    "    ax0.plot(data[limb + \"L\" + \"angle\"],color = '#005bec')\n",
    "    ax0.plot(data[limb + \"R\" + \"angle\"],color = '#ec00c0')\n",
    "    ax0.set_title(limb + \"L\" + \"angle & \"+limb +\"R\" + \"angle\")\n",
    "\n",
    "    ax0.set_facecolor(\"#e8de8d\")\n",
    "\n",
    "    ax1 = fig.add_subplot(spec[1, 0])\n",
    "    ax1.set_facecolor(\"#e8de8d\")\n",
    "    ax1.set_title(limb + \"L\" + \"angle\")\n",
    "    ax1.plot(data[limb + \"L\" + \"angle\"],color = '#005bec')\n",
    "    ax2 = fig.add_subplot(spec[1, 1])\n",
    "    ax2.set_facecolor(\"#efd7d7\")\n",
    "    ax2.set_title(limb + \"R\" + \"angle\")\n",
    "    ax2.plot(data[limb + \"R\" + \"angle\"], color = '#ec00c0')\n",
    "\n",
    "\n",
    "\n",
    "    return fig\n"
   ]
  },
  {
   "cell_type": "code",
   "execution_count": null,
   "metadata": {},
   "outputs": [],
   "source": [
    "@pn.cache\n",
    "def boxplot(df, axis, direction = 'L', width = 200, height = 300):\n",
    "    df = pd.read_csv(df)\n",
    "    axis = axis + direction +'angle'\n",
    "    boxwhisker = hv.BoxWhisker(df[axis], label=axis)\n",
    "    return boxwhisker.opts(show_legend=False, width = width,  height = height)"
   ]
  },
  {
   "cell_type": "code",
   "execution_count": null,
   "metadata": {},
   "outputs": [],
   "source": []
  },
  {
   "cell_type": "code",
   "execution_count": null,
   "id": "5c14871b",
   "metadata": {},
   "outputs": [],
   "source": [
    "columns = ['shoulder','elbow','knee','hip']\n",
    "select_column = pn.widgets.Select(options=columns)\n",
    "direction = ['l','r']\n",
    "select_direction =  pn.widgets.Select(options=direction)\n",
    "\n",
    "main_widget = pn.bind(plot, select,select_column,select_direction)"
   ]
  },
  {
   "cell_type": "code",
   "execution_count": null,
   "metadata": {},
   "outputs": [],
   "source": [
    "boxplot_widget_l = pn.bind(boxplot,select, select_column)\n",
    "boxplot_widget_r = pn.bind(boxplot,select, select_column ,direction = 'R')"
   ]
  },
  {
   "cell_type": "markdown",
   "id": "dd940e4e",
   "metadata": {},
   "source": [
    "@pn.cache\n",
    "def boxplot(df = None, limb = 'shoulder',direction = 'l', color_0 = 'goldenrod',color_1 = 'coral'):\n",
    "    data = fetch_data(df)\n",
    "    fig1,ax1  = plt.subplots(num=1, figsize=(5*cm, 5*cm))\n",
    "    ax1.set_title(limb + direction + \" angle boxplot\")\n",
    "    ax1.boxplot(data[limb+direction.upper()+\"angle\"])\n",
    "    return fig1\n",
    "\n",
    "boxplot_widget = pn.bind(boxplot, select)\n",
    "    "
   ]
  },
  {
   "cell_type": "markdown",
   "id": "023f1fb1",
   "metadata": {},
   "source": [
    "## Create the Template"
   ]
  },
  {
   "cell_type": "code",
   "execution_count": null,
   "id": "438f8daa-0017-4cb2-a8cb-c86784a6ab52",
   "metadata": {},
   "outputs": [],
   "source": [
    "#Layout using Template\n",
    "template = pn.template.BootstrapTemplate(\n",
    "    title='Data analysis for motor disabilities rehabilitation of the upper limbs using augmented reality', \n",
    "    sidebar=[pn.pane.Markdown(\"\"), \n",
    "             file_input,\n",
    "             pn.pane.Markdown(\"## Choose the dataframe\"), \n",
    "             select_column,\n",
    "             boxplot_widget_l,\n",
    "             boxplot_widget_r,\n",
    "            ],\n",
    "    main= [pn.Row(main_widget)],\n",
    "    accent_base_color=\"#45d8b1\",\n",
    "    header_background=\"#5608b0\",\n",
    ")\n",
    "template.show()\n",
    "template.servable();"
   ]
  },
  {
   "cell_type": "code",
   "execution_count": null,
   "id": "652cc5ed",
   "metadata": {},
   "outputs": [],
   "source": []
  }
 ],
 "metadata": {
  "kernelspec": {
   "display_name": "Python 3 (ipykernel)",
   "language": "python",
   "name": "python3"
  },
  "language_info": {
   "codemirror_mode": {
    "name": "ipython",
    "version": 3
   },
   "file_extension": ".py",
   "mimetype": "text/x-python",
   "name": "python",
   "nbconvert_exporter": "python",
   "pygments_lexer": "ipython3",
   "version": "3.9.17"
  },
  "vscode": {
   "interpreter": {
    "hash": "767d51c1340bd893661ea55ea3124f6de3c7a262a8b4abca0554b478b1e2ff90"
   }
  }
 },
 "nbformat": 4,
 "nbformat_minor": 5
}
