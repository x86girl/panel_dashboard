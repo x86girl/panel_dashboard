{
 "cells": [
  {
   "cell_type": "code",
   "execution_count": null,
   "id": "fdc9dea9-977d-47ec-a607-c4302a010733",
   "metadata": {},
   "outputs": [],
   "source": [
    "from io import BytesIO\n",
    "\n",
    "import pandas as pd\n",
    "import numpy as np\n",
    "import panel as pn\n",
    "pn.extension('tabulator')\n",
    "\n",
    "import hvplot.pandas"
   ]
  },
  {
   "cell_type": "code",
   "execution_count": null,
   "id": "a296e7e3",
   "metadata": {
    "scrolled": true
   },
   "outputs": [],
   "source": [
    "import os\n",
    "path = '../data'\n",
    "files = os.listdir(path)\n",
    "path_files = [path + '/'+ string for string in files]\n",
    "file_entries = dict(zip(files,path_files))\n",
    "file_entries"
   ]
  },
  {
   "cell_type": "code",
   "execution_count": null,
   "id": "df79d7d2",
   "metadata": {},
   "outputs": [],
   "source": [
    "select = pn.widgets.Select(options=file_entries)\n",
    "\n",
    "@pn.cache\n",
    "def fetch_data(url):\n",
    "    df = pd.read_csv(url)\n",
    "    df.drop('time', axis = 1, inplace = True)\n",
    "    df.insert(0,'time',df.index.values)\n",
    "    df = df.fillna(0)\n",
    "    return df\n",
    "\n",
    "select_df = pn.Column(select, pn.bind(pn.widgets.Tabulator, pn.bind(fetch_data, select), page_size=10))"
   ]
  },
  {
   "cell_type": "code",
   "execution_count": null,
   "id": "d6373690",
   "metadata": {},
   "outputs": [],
   "source": [
    "@pn.cache\n",
    "def fetch_size(url):\n",
    "    df = pd.read_csv(url)\n",
    "    return df.size"
   ]
  },
  {
   "cell_type": "code",
   "execution_count": null,
   "id": "7ae0c347",
   "metadata": {},
   "outputs": [],
   "source": [
    "idf = hvplot.bind(fetch_data, select).interactive()\n",
    "dir(idf)\n",
    "idf.shape[0]"
   ]
  },
  {
   "cell_type": "code",
   "execution_count": null,
   "id": "7eb77fb7",
   "metadata": {
    "scrolled": true
   },
   "outputs": [],
   "source": [
    "png_pane_diagnostic = pn.pane.PNG('./pictures/diagnostic.png')\n"
   ]
  },
  {
   "cell_type": "code",
   "execution_count": null,
   "id": "a5ee2bd4",
   "metadata": {},
   "outputs": [],
   "source": [
    "png_pane = pn.pane.PNG('./pictures/pikachu.png')\n",
    "png_pane"
   ]
  },
  {
   "cell_type": "markdown",
   "id": "54629e7a-8cb8-4fbe-a616-6481a8e6ff31",
   "metadata": {},
   "source": [
    "## Slide to see only a region\n"
   ]
  },
  {
   "cell_type": "code",
   "execution_count": null,
   "id": "2f7137e2",
   "metadata": {},
   "outputs": [],
   "source": [
    "time_slide_l = (\n",
    "    pn.widgets.IntSlider(\n",
    "        name = \"Time slider\",\n",
    "        start = 0,\n",
    "        value = 0,\n",
    "        end = 2561,\n",
    "        step = 1    )\n",
    ")"
   ]
  },
  {
   "cell_type": "code",
   "execution_count": null,
   "id": "22ea5101",
   "metadata": {},
   "outputs": [],
   "source": [
    "time_slide_r= (\n",
    "    pn.widgets.IntSlider(\n",
    "        name = \"Time slider\",\n",
    "        start = 0,\n",
    "        step = 1,\n",
    "        value = 2561,\n",
    "        end = 2561\n",
    "        )\n",
    ")"
   ]
  },
  {
   "cell_type": "code",
   "execution_count": null,
   "id": "18b1462d",
   "metadata": {},
   "outputs": [],
   "source": [
    "time_slide_l_knee = (\n",
    "    pn.widgets.IntSlider(\n",
    "        name = \"Time slider\",\n",
    "        start = 0,\n",
    "        value = 0,\n",
    "        end = 2561,\n",
    "        step = 1    )\n",
    ")"
   ]
  },
  {
   "cell_type": "code",
   "execution_count": null,
   "id": "13d314ab",
   "metadata": {},
   "outputs": [],
   "source": [
    "time_slide_r_knee= (\n",
    "    pn.widgets.IntSlider(\n",
    "        name = \"Time slider\",\n",
    "        start = 0,\n",
    "        step = 1,\n",
    "        value = 2561,\n",
    "        end = 2561\n",
    "        )\n",
    ")"
   ]
  },
  {
   "cell_type": "code",
   "execution_count": null,
   "id": "5131fd1d-f9a9-48b2-9168-769435d830fc",
   "metadata": {},
   "outputs": [],
   "source": [
    "# Radio buttons for CO2 measures\n",
    "yaxis_shoulder = pn.widgets.RadioButtonGroup(\n",
    "    name='Y axis', \n",
    "    options=['shoulderLangle', 'shoulderRangle',],\n",
    "    button_type='success'\n",
    ")"
   ]
  },
  {
   "cell_type": "code",
   "execution_count": null,
   "id": "db1f4d1b",
   "metadata": {},
   "outputs": [],
   "source": [
    "time_slide_r_var = 1\n",
    "dir(time_slide_l)"
   ]
  },
  {
   "cell_type": "code",
   "execution_count": null,
   "id": "4c357628-af69-4ec4-9e2d-91bcdd21c3c9",
   "metadata": {},
   "outputs": [],
   "source": [
    "\n",
    "shoulder_pipeline = (\n",
    "    idf[(idf.time >= time_slide_l) &(idf.time <= time_slide_r) ])"
   ]
  },
  {
   "cell_type": "code",
   "execution_count": null,
   "id": "ad349aaf-1612-4a0d-9303-3a379cf83fad",
   "metadata": {
    "jupyter": {
     "outputs_hidden": true
    },
    "tags": []
   },
   "outputs": [],
   "source": [
    "shoulder_pipeline"
   ]
  },
  {
   "cell_type": "code",
   "execution_count": null,
   "id": "96b7ed90-92db-41b2-a2ab-ea80aa34d2db",
   "metadata": {
    "tags": []
   },
   "outputs": [],
   "source": [
    "shoulder_plot = shoulder_pipeline.hvplot(x = 'time',  y=yaxis_shoulder,line_width=2,  width=900, height=800, title=\"Shoulder Plot\")\n",
    "shoulder_plot\n"
   ]
  },
  {
   "cell_type": "code",
   "execution_count": null,
   "id": "93c06b43",
   "metadata": {},
   "outputs": [],
   "source": [
    "yaxis_knee = pn.widgets.RadioButtonGroup(\n",
    "    name='Y axis', \n",
    "    options=['kneeLangle', 'kneeRangle',],\n",
    "    button_type='success'\n",
    ")"
   ]
  },
  {
   "cell_type": "code",
   "execution_count": null,
   "id": "eaf2c490",
   "metadata": {},
   "outputs": [],
   "source": [
    "knee_pipeline = (\n",
    "    idf[(idf.time >= time_slide_l_knee) &(idf.time <= time_slide_r_knee) ])"
   ]
  },
  {
   "cell_type": "code",
   "execution_count": null,
   "id": "7ee84e3f",
   "metadata": {},
   "outputs": [],
   "source": [
    "knee_plot = shoulder_pipeline.hvplot(x = 'time',  y=yaxis_knee,line_width=2,  width=900, height=800, title=\"Knee Plot\")\n",
    "shoulder_plot"
   ]
  },
  {
   "cell_type": "code",
   "execution_count": 21,
   "id": "a2978aa6",
   "metadata": {},
   "outputs": [],
   "source": [
    "def df_pipeline(dataframe):\n",
    "    return pn.pane.Markdown(dataframe)\n",
    "df_name = pn.bind(df_pipeline, select)"
   ]
  },
  {
   "cell_type": "code",
   "execution_count": 23,
   "id": "1f3f28e2",
   "metadata": {},
   "outputs": [
    {
     "data": {
      "text/plain": [
       "<function panel.depends._param_bind.<locals>.wrapped(*wargs, **wkwargs)>"
      ]
     },
     "execution_count": 23,
     "metadata": {},
     "output_type": "execute_result"
    }
   ],
   "source": [
    "df_string = pn.bind(lambda select: f'{select = }',select)\n",
    "df_string"
   ]
  },
  {
   "cell_type": "code",
   "execution_count": 25,
   "id": "9352d5d1",
   "metadata": {},
   "outputs": [],
   "source": [
    "html = '''\n",
    "<!DOCTYPE HTML>\n",
    "<html>\n",
    "<head>\n",
    "<meta charset=\"UTF-8\">\n",
    "<style type=\"text/css\">\n",
    "body {\n",
    "\tbackground-color: #f6f6ff;\n",
    "\tfont-family: Calibri, Myriad;\n",
    "}\n",
    "\n",
    "#main {\n",
    "\twidth: 780px;\n",
    "\tpadding: 20px;\n",
    "\tmargin: auto;\n",
    "}\n",
    "\n",
    "table.timecard {\n",
    "\tmargin: auto;\n",
    "\twidth: 600px;\n",
    "\tborder-collapse: collapse;\n",
    "\tborder: 1px solid #fff; /*for older IE*/\n",
    "\tborder-style: hidden;\n",
    "}\n",
    "\n",
    "table.timecard caption {\n",
    "\tbackground-color: #150cc1;\n",
    "\tcolor: #fff;\n",
    "\tfont-size: x-large;\n",
    "\tfont-weight: bold;\n",
    "\tletter-spacing: .3em;\n",
    "}\n",
    "\n",
    "table.timecard thead th {\n",
    "\tpadding: 8px;\n",
    "\tbackground-color: #9babc6;\n",
    "\tfont-size: large;\n",
    "}\n",
    "\n",
    "table.timecard thead th#thDay {\n",
    "\twidth: 40%;\t\n",
    "}\n",
    "\n",
    "table.timecard thead th#thRegular, table.timecard thead th#thOvertime, table.timecard thead th#thTotal {\n",
    "\twidth: 20%;\n",
    "}\n",
    "\n",
    "table.timecard th, table.timecard td {\n",
    "\tpadding: 3px;\n",
    "\tborder-width: 1px;\n",
    "\tborder-style: solid;\n",
    "\tborder-color: #4654f7 #ccc;\n",
    "}\n",
    "\n",
    "table.timecard td {\n",
    "\ttext-align: right;\n",
    "}\n",
    "\n",
    "table.timecard tbody th {\n",
    "\ttext-align: left;\n",
    "\tfont-weight: normal;\n",
    "}\n",
    "\n",
    "table.timecard tfoot {\n",
    "\tfont-weight: bold;\n",
    "\tfont-size: large;\n",
    "\tbackground-color: #bac5df;\n",
    "\tcolor: #fff;\n",
    "}\n",
    "\n",
    "table.timecard tr.even {\n",
    "\tbackground-color: #46a4f7;\n",
    "}\n",
    "</style>\n",
    "<title>Session Data</title>\n",
    "</head>\n",
    "\n",
    "<body>\n",
    "<div id=\"main\">\n",
    "<table class=\"timecard\">\n",
    "\t<caption>Session Data</caption>\n",
    "\t<thead>\n",
    "\t\t<tr>\n",
    "\t\t\t<th id=\"thMean\">Mean</th>\n",
    "\t\t\t<th id=\"thVariance\">Variance</th>\n",
    "\t\t\t<th id=\"thOvertime\">Overtime</th>\n",
    "\t\t</tr>\n",
    "\t</thead>\n",
    "\t<tbody>\n",
    "\t\t<tr class=\"odd\">\n",
    "\t\t\t<th>Shoulder</th>\n",
    "\t\t\t<td>8</td>\n",
    "\t\t\t<td>0</td>\n",
    "\t\t</tr>\n",
    "\t\t<tr class=\"even\">\n",
    "\t\t\t<th>Sholder X</th>\n",
    "\t\t\t<td>8</td>\n",
    "\t\t\t<td>2.5</td>\n",
    "\t\t</tr>\n",
    "\t\t<tr class=\"odd\">\n",
    "\t\t\t<th>Shoulder Y</th>\n",
    "\t\t\t<td>8</td>\n",
    "\t\t\t<td>0</td>\n",
    "\t\t</tr>\n",
    "\t\t<tr class=\"even\">\n",
    "\t\t\t<th>Shoulder Z</th>\n",
    "\t\t\t<td>8</td>\n",
    "\t\t\t<td>0</td>\n",
    "\t\t</tr>\n",
    "\t\t<tr class=\"odd\">\n",
    "\t\t\t<th>Knee</th>\n",
    "\t\t\t<td>8</td>\n",
    "\t\t\t<td>0</td>\n",
    "\t\t</tr>\n",
    "\t\t<tr class=\"even\">\n",
    "\t\t\t<th>Knee X</th>\n",
    "\t\t\t<td>0</td>\n",
    "\t\t\t<td>5</td>\n",
    "\t\t</tr>\n",
    "\t\t<tr class=\"odd\">\n",
    "\t\t\t<th>Knee Y</th>\n",
    "\t\t\t<td>0</td>\n",
    "\t\t\t<td>1</td>\n",
    "\t\t</tr>\n",
    "\t</tbody>\n",
    "\n",
    "</table>\n",
    "</div>\n",
    "</body>\n",
    "</html>\n",
    "'''"
   ]
  },
  {
   "cell_type": "code",
   "execution_count": 26,
   "id": "9c9dc8fa",
   "metadata": {},
   "outputs": [],
   "source": [
    "html_pane = pn.pane.HTML(html)"
   ]
  },
  {
   "cell_type": "code",
   "execution_count": null,
   "id": "69ada60d",
   "metadata": {},
   "outputs": [],
   "source": []
  },
  {
   "cell_type": "code",
   "execution_count": 24,
   "id": "438f8daa-0017-4cb2-a8cb-c86784a6ab52",
   "metadata": {},
   "outputs": [
    {
     "ename": "NameError",
     "evalue": "name 'png_pane_diagnostic' is not defined",
     "output_type": "error",
     "traceback": [
      "\u001b[0;31m---------------------------------------------------------------------------\u001b[0m",
      "\u001b[0;31mNameError\u001b[0m                                 Traceback (most recent call last)",
      "Cell \u001b[0;32mIn[24], line 7\u001b[0m\n\u001b[1;32m      1\u001b[0m \u001b[38;5;66;03m#Layout using Template\u001b[39;00m\n\u001b[1;32m      2\u001b[0m template \u001b[38;5;241m=\u001b[39m pn\u001b[38;5;241m.\u001b[39mtemplate\u001b[38;5;241m.\u001b[39mFastListTemplate(\n\u001b[1;32m      3\u001b[0m     title\u001b[38;5;241m=\u001b[39m\u001b[38;5;124m'\u001b[39m\u001b[38;5;124mWearable Device for Immersive Virtual Reality Control andApplication in Upper Limbs Motor Rehabilitation dashboard\u001b[39m\u001b[38;5;124m'\u001b[39m, \n\u001b[1;32m      4\u001b[0m     sidebar\u001b[38;5;241m=\u001b[39m[pn\u001b[38;5;241m.\u001b[39mpane\u001b[38;5;241m.\u001b[39mMarkdown(\u001b[38;5;124m\"\u001b[39m\u001b[38;5;124m\"\u001b[39m), \n\u001b[1;32m      5\u001b[0m              pn\u001b[38;5;241m.\u001b[39mpane\u001b[38;5;241m.\u001b[39mMarkdown(\u001b[38;5;124m\"\u001b[39m\u001b[38;5;124m#### Some meaningful instructions.\u001b[39m\u001b[38;5;124m\"\u001b[39m), \n\u001b[1;32m      6\u001b[0m              select_df,\n\u001b[0;32m----> 7\u001b[0m              \u001b[43mpng_pane_diagnostic\u001b[49m,\n\u001b[1;32m      8\u001b[0m              pn\u001b[38;5;241m.\u001b[39mpane\u001b[38;5;241m.\u001b[39mMarkdown(\u001b[38;5;124m\"\u001b[39m\u001b[38;5;124m## Settings\u001b[39m\u001b[38;5;124m\"\u001b[39m),\n\u001b[1;32m      9\u001b[0m              pn\u001b[38;5;241m.\u001b[39mRow(pn\u001b[38;5;241m.\u001b[39mColumn(time_slide_l, time_slide_r,))\n\u001b[1;32m     10\u001b[0m             ],\n\u001b[1;32m     11\u001b[0m     main\u001b[38;5;241m=\u001b[39m[pn\u001b[38;5;241m.\u001b[39mRow(pn\u001b[38;5;241m.\u001b[39mColumn(yaxis_shoulder,\n\u001b[1;32m     12\u001b[0m                            shoulder_plot\u001b[38;5;241m.\u001b[39mpanel(width\u001b[38;5;241m=\u001b[39m\u001b[38;5;241m700\u001b[39m), margin\u001b[38;5;241m=\u001b[39m(\u001b[38;5;241m0\u001b[39m,\u001b[38;5;241m25\u001b[39m)), \n\u001b[1;32m     13\u001b[0m                   pn\u001b[38;5;241m.\u001b[39mColumn(yaxis_knee,\n\u001b[1;32m     14\u001b[0m                            knee_plot\u001b[38;5;241m.\u001b[39mpanel(width\u001b[38;5;241m=\u001b[39m\u001b[38;5;241m700\u001b[39m), margin\u001b[38;5;241m=\u001b[39m(\u001b[38;5;241m0\u001b[39m,\u001b[38;5;241m25\u001b[39m))), \n\u001b[1;32m     15\u001b[0m           pn\u001b[38;5;241m.\u001b[39mRow(pn\u001b[38;5;241m.\u001b[39mColumn(df_string), \n\u001b[1;32m     16\u001b[0m                   png_pane)],\n\u001b[1;32m     17\u001b[0m     accent_base_color\u001b[38;5;241m=\u001b[39m\u001b[38;5;124m\"\u001b[39m\u001b[38;5;124m#87d8b1\u001b[39m\u001b[38;5;124m\"\u001b[39m,\n\u001b[1;32m     18\u001b[0m     header_background\u001b[38;5;241m=\u001b[39m\u001b[38;5;124m\"\u001b[39m\u001b[38;5;124m#85d8b0\u001b[39m\u001b[38;5;124m\"\u001b[39m,\n\u001b[1;32m     19\u001b[0m )\n\u001b[1;32m     20\u001b[0m \u001b[38;5;66;03m# template.show()\u001b[39;00m\n\u001b[1;32m     21\u001b[0m template\u001b[38;5;241m.\u001b[39mservable();\n",
      "\u001b[0;31mNameError\u001b[0m: name 'png_pane_diagnostic' is not defined"
     ]
    }
   ],
   "source": [
    "#Layout using Template\n",
    "template = pn.template.FastListTemplate(\n",
    "    title='Wearable Device for Immersive Virtual Reality Control andApplication in Upper Limbs Motor Rehabilitation dashboard', \n",
    "    sidebar=[pn.pane.Markdown(\"\"), \n",
    "             pn.pane.Markdown(\"#### Some meaningful instructions.\"), \n",
    "             select_df,\n",
    "             png_pane_diagnostic,\n",
    "             pn.pane.Markdown(\"## Settings\"),\n",
    "             pn.Row(pn.Column(time_slide_l, time_slide_r,))\n",
    "            ],\n",
    "    main=[pn.Row(pn.Column(yaxis_shoulder,\n",
    "                           shoulder_plot.panel(width=700), margin=(0,25)), \n",
    "                  pn.Column(yaxis_knee,\n",
    "                           knee_plot.panel(width=700), margin=(0,25))), \n",
    "          pn.Row(pn.Column(html_pane), \n",
    "                  png_pane)],\n",
    "    accent_base_color=\"#87d8b1\",\n",
    "    header_background=\"#85d8b0\",\n",
    ")\n",
    "# template.show()\n",
    "template.servable();"
   ]
  },
  {
   "cell_type": "code",
   "execution_count": null,
   "id": "f5556d01",
   "metadata": {},
   "outputs": [],
   "source": []
  },
  {
   "cell_type": "code",
   "execution_count": null,
   "id": "f5469068",
   "metadata": {},
   "outputs": [],
   "source": []
  },
  {
   "cell_type": "code",
   "execution_count": null,
   "id": "4141ce63",
   "metadata": {},
   "outputs": [],
   "source": []
  }
 ],
 "metadata": {
  "kernelspec": {
   "display_name": "Python 3 (ipykernel)",
   "language": "python",
   "name": "python3"
  },
  "language_info": {
   "codemirror_mode": {
    "name": "ipython",
    "version": 3
   },
   "file_extension": ".py",
   "mimetype": "text/x-python",
   "name": "python",
   "nbconvert_exporter": "python",
   "pygments_lexer": "ipython3",
   "version": "3.8.16"
  },
  "vscode": {
   "interpreter": {
    "hash": "767d51c1340bd893661ea55ea3124f6de3c7a262a8b4abca0554b478b1e2ff90"
   }
  }
 },
 "nbformat": 4,
 "nbformat_minor": 5
}
