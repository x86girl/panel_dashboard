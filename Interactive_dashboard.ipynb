{
 "cells": [
  {
   "cell_type": "code",
   "execution_count": null,
   "id": "fdc9dea9-977d-47ec-a607-c4302a010733",
   "metadata": {},
   "outputs": [],
   "source": [
    "from io import BytesIO\n",
    "\n",
    "import pandas as pd\n",
    "import numpy as np\n",
    "import panel as pn\n",
    "pn.extension('tabulator')\n",
    "\n",
    "import hvplot.pandas"
   ]
  },
  {
   "cell_type": "code",
   "execution_count": null,
   "id": "d9dd1b7a",
   "metadata": {},
   "outputs": [],
   "source": [
    "def get_number_of_rows(dataframe):\n",
    "    df = pd.read_csv(dataframe)\n",
    "    return df.shape[0]"
   ]
  },
  {
   "cell_type": "code",
   "execution_count": null,
   "id": "a296e7e3",
   "metadata": {
    "scrolled": true
   },
   "outputs": [],
   "source": [
    "import os\n",
    "path = '../data'\n",
    "files = os.listdir(path)\n",
    "path_files = [path + '/'+ string for string in files]\n",
    "number_of_rows = [get_number_of_rows(dataframe) for dataframe in path_files]\n",
    "#dict_values = [(file_name, n_rows) for file_name, n_rows in zip(path_files, number_of_rows) ]\n",
    "file_entries = dict(zip(files,path_files))\n",
    "file_rows = dict(zip(path_files,number_of_rows))\n"
   ]
  },
  {
   "cell_type": "code",
   "execution_count": null,
   "id": "581e1f6c",
   "metadata": {},
   "outputs": [],
   "source": [
    "file_rows"
   ]
  },
  {
   "cell_type": "code",
   "execution_count": null,
   "id": "df79d7d2",
   "metadata": {},
   "outputs": [],
   "source": [
    "select = pn.widgets.Select(options=file_entries)\n",
    "\n",
    "@pn.cache\n",
    "def fetch_data(url):\n",
    "    df = pd.read_csv(url)\n",
    "    df.drop('time', axis = 1, inplace = True)\n",
    "    df.insert(0,'time',df.index.values)\n",
    "    df = df.fillna(0)\n",
    "    return df\n",
    "\n",
    "select_df = pn.Column(select, pn.bind(pn.widgets.Tabulator, pn.bind(fetch_data, select), page_size=10))"
   ]
  },
  {
   "cell_type": "code",
   "execution_count": null,
   "id": "809042a1",
   "metadata": {},
   "outputs": [],
   "source": [
    "@pn.cache\n",
    "def calculate_variance(df, col):\n",
    "    df = pd.read_csv(df)\n",
    "    variance = df[col].to_numpy()\n",
    "    variance = str(np.var(variance))\n",
    "    return pn.pane.Markdown('## ' + variance)"
   ]
  },
  {
   "attachments": {},
   "cell_type": "markdown",
   "id": "665569a7",
   "metadata": {},
   "source": []
  },
  {
   "cell_type": "code",
   "execution_count": null,
   "id": "bd78de79",
   "metadata": {},
   "outputs": [],
   "source": [
    "variance_kneeLangle = pn.Column(pn.bind(calculate_variance, select, 'kneeLangle'))"
   ]
  },
  {
   "cell_type": "code",
   "execution_count": null,
   "id": "d6373690",
   "metadata": {},
   "outputs": [],
   "source": [
    "@pn.cache\n",
    "def fetch_size(url):\n",
    "    df = pd.read_csv(url)\n",
    "    return df.size"
   ]
  },
  {
   "cell_type": "code",
   "execution_count": null,
   "id": "7ae0c347",
   "metadata": {},
   "outputs": [],
   "source": [
    "idf = hvplot.bind(fetch_data, select).interactive()\n",
    "dir(idf)\n",
    "idf.shape[0]"
   ]
  },
  {
   "cell_type": "code",
   "execution_count": null,
   "id": "7eb77fb7",
   "metadata": {
    "scrolled": true
   },
   "outputs": [],
   "source": [
    "png_pane_diagnostic = pn.pane.PNG('./pictures/diagnostic.png')\n"
   ]
  },
  {
   "cell_type": "code",
   "execution_count": null,
   "id": "a5ee2bd4",
   "metadata": {},
   "outputs": [],
   "source": [
    "png_pane = pn.pane.PNG('./pictures/pikachu.png')\n",
    "png_pane"
   ]
  },
  {
   "attachments": {},
   "cell_type": "markdown",
   "id": "54629e7a-8cb8-4fbe-a616-6481a8e6ff31",
   "metadata": {},
   "source": [
    "## Slide to see only a region\n"
   ]
  },
  {
   "attachments": {},
   "cell_type": "markdown",
   "id": "d6b0c1c2",
   "metadata": {},
   "source": [
    "def time_slider(select, value):\n",
    "    if value == 'end':\n",
    "        return pn.widgets.IntSlider(\n",
    "            name = \"Time slider\",\n",
    "            start = 0,\n",
    "            value = file_rows[select],\n",
    "            end = file_rows[select],\n",
    "            step = 1    )\n",
    "    else:\n",
    "        return pn.widgets.IntSlider(\n",
    "            name = \"Time slider\",\n",
    "            start = 0,\n",
    "            value = value,\n",
    "            end = file_rows[select],\n",
    "            step = 1    )\n",
    "time_slider_l = pn.bind(time_slider, select, 0)\n",
    "time_slider_r = pn.bind(time_slider, select, 'end')"
   ]
  },
  {
   "attachments": {},
   "cell_type": "markdown",
   "id": "67dd1828",
   "metadata": {},
   "source": [
    "time_slider_l\n",
    "time_slider_r\n",
    "time_slider_column = pn.Column(time_slider_l, time_slider_r)"
   ]
  },
  {
   "cell_type": "code",
   "execution_count": null,
   "id": "5131fd1d-f9a9-48b2-9168-769435d830fc",
   "metadata": {},
   "outputs": [],
   "source": [
    "# Radio buttons for CO2 measures\n",
    "yaxis_shoulder = pn.widgets.RadioButtonGroup(\n",
    "    name='Y axis', \n",
    "    options=['shoulderLangle', 'shoulderRangle',],\n",
    "    button_type='success'\n",
    ")"
   ]
  },
  {
   "cell_type": "code",
   "execution_count": null,
   "id": "4c357628-af69-4ec4-9e2d-91bcdd21c3c9",
   "metadata": {},
   "outputs": [],
   "source": [
    "\n",
    "shoulder_pipeline = (\n",
    "    idf)"
   ]
  },
  {
   "cell_type": "code",
   "execution_count": null,
   "id": "ad349aaf-1612-4a0d-9303-3a379cf83fad",
   "metadata": {
    "jupyter": {
     "outputs_hidden": true
    },
    "tags": []
   },
   "outputs": [],
   "source": [
    "shoulder_pipeline"
   ]
  },
  {
   "cell_type": "code",
   "execution_count": null,
   "id": "96b7ed90-92db-41b2-a2ab-ea80aa34d2db",
   "metadata": {
    "tags": []
   },
   "outputs": [],
   "source": [
    "shoulder_plot = shoulder_pipeline.hvplot(x = 'time',  y=yaxis_shoulder,line_width=2,  width=900, height=800, title=\"Shoulder Plot\")\n",
    "shoulder_plot\n"
   ]
  },
  {
   "cell_type": "code",
   "execution_count": null,
   "id": "93c06b43",
   "metadata": {},
   "outputs": [],
   "source": [
    "yaxis_knee = pn.widgets.RadioButtonGroup(\n",
    "    name='Y axis', \n",
    "    options=['kneeLangle', 'kneeRangle',],\n",
    "    button_type='success'\n",
    ")"
   ]
  },
  {
   "cell_type": "code",
   "execution_count": null,
   "id": "eaf2c490",
   "metadata": {},
   "outputs": [],
   "source": [
    "knee_pipeline = (\n",
    "    idf)"
   ]
  },
  {
   "cell_type": "code",
   "execution_count": null,
   "id": "7ee84e3f",
   "metadata": {},
   "outputs": [],
   "source": [
    "knee_plot = shoulder_pipeline.hvplot(x = 'time',  y=yaxis_knee,line_width=2,  width=900, height=800, title=\"Knee Plot\")\n",
    "shoulder_plot"
   ]
  },
  {
   "cell_type": "code",
   "execution_count": null,
   "id": "a2978aa6",
   "metadata": {},
   "outputs": [],
   "source": [
    "def df_pipeline(dataframe):\n",
    "    return pn.pane.Markdown(dataframe)\n",
    "df_name = pn.bind(df_pipeline, select)"
   ]
  },
  {
   "cell_type": "code",
   "execution_count": null,
   "id": "1f3f28e2",
   "metadata": {},
   "outputs": [],
   "source": [
    "df_string = pn.bind(lambda select: f'{select = }',select)\n",
    "df_string"
   ]
  },
  {
   "cell_type": "code",
   "execution_count": null,
   "id": "9eda441d",
   "metadata": {},
   "outputs": [],
   "source": [
    "html = '''\n",
    "<!DOCTYPE HTML>\n",
    "<html>\n",
    "<head>\n",
    "<meta charset=\"UTF-8\">\n",
    "<style type=\"text/css\">\n",
    "body {\n",
    "\tbackground-color: #f6f6ff;\n",
    "\tfont-family: Calibri, Myriad;\n",
    "}\n",
    "\n",
    "#main {\n",
    "\twidth: 780px;\n",
    "\tpadding: 20px;\n",
    "\tmargin: auto;\n",
    "}\n",
    "\n",
    "table.timecard {\n",
    "\tmargin: auto;\n",
    "\twidth: 600px;\n",
    "\tborder-collapse: collapse;\n",
    "\tborder: 1px solid #fff; /*for older IE*/\n",
    "\tborder-style: hidden;\n",
    "}\n",
    "\n",
    "table.timecard caption {\n",
    "\tbackground-color: #150cc1;\n",
    "\tcolor: #fff;\n",
    "\tfont-size: x-large;\n",
    "\tfont-weight: bold;\n",
    "\tletter-spacing: .3em;\n",
    "}\n",
    "\n",
    "table.timecard thead th {\n",
    "\tpadding: 8px;\n",
    "\tbackground-color: #9babc6;\n",
    "\tfont-size: large;\n",
    "}\n",
    "\n",
    "table.timecard thead th#thDay {\n",
    "\twidth: 40%;\t\n",
    "}\n",
    "\n",
    "table.timecard thead th#thRegular, table.timecard thead th#thOvertime, table.timecard thead th#thTotal {\n",
    "\twidth: 20%;\n",
    "}\n",
    "\n",
    "table.timecard th, table.timecard td {\n",
    "\tpadding: 3px;\n",
    "\tborder-width: 1px;\n",
    "\tborder-style: solid;\n",
    "\tborder-color: #4654f7 #ccc;\n",
    "}\n",
    "\n",
    "table.timecard td {\n",
    "\ttext-align: right;\n",
    "}\n",
    "\n",
    "table.timecard tbody th {\n",
    "\ttext-align: left;\n",
    "\tfont-weight: normal;\n",
    "}\n",
    "\n",
    "table.timecard tfoot {\n",
    "\tfont-weight: bold;\n",
    "\tfont-size: large;\n",
    "\tbackground-color: #bac5df;\n",
    "\tcolor: #fff;\n",
    "}\n",
    "\n",
    "table.timecard tr.even {\n",
    "\tbackground-color: #46a4f7;\n",
    "}\n",
    "</style>\n",
    "<title>Session Data</title>\n",
    "</head>\n",
    "\n",
    "<body>\n",
    "<div id=\"main\">\n",
    "<table class=\"timecard\">\n",
    "\t<caption>Session Data</caption>\n",
    "\t<thead>\n",
    "\t\t<tr>\n",
    "\t\t\t<th id=\"thMean\">Mean</th>\n",
    "\t\t\t<th id=\"thVariance\">Variance</th>\n",
    "\t\t\t<th id=\"thOvertime\">Overtime</th>\n",
    "\t\t</tr>\n",
    "\t</thead>\n",
    "\t<tbody>\n",
    "\t\t<tr class=\"odd\">\n",
    "\t\t\t<th>Shoulder</th>\n",
    "\t\t\t<td>8</td>\n",
    "\t\t\t<td>0</td>\n",
    "\t\t</tr>\n",
    "\t\t<tr class=\"even\">\n",
    "\t\t\t<th>Sholder X</th>\n",
    "\t\t\t<td>8</td>\n",
    "\t\t\t<td>2.5</td>\n",
    "\t\t</tr>\n",
    "\t\t<tr class=\"odd\">\n",
    "\t\t\t<th>Shoulder Y</th>\n",
    "\t\t\t<td>8</td>\n",
    "\t\t\t<td>0</td>\n",
    "\t\t</tr>\n",
    "\t\t<tr class=\"even\">\n",
    "\t\t\t<th>Shoulder Z</th>\n",
    "\t\t\t<td>8</td>\n",
    "\t\t\t<td>0</td>\n",
    "\t\t</tr>\n",
    "\t\t<tr class=\"odd\">\n",
    "\t\t\t<th>Knee</th>\n",
    "\t\t\t<td>8</td>\n",
    "\t\t\t<td>0</td>\n",
    "\t\t</tr>\n",
    "\t\t<tr class=\"even\">\n",
    "\t\t\t<th>Knee X</th>\n",
    "\t\t\t<td>0</td>\n",
    "\t\t\t<td>5</td>\n",
    "\t\t</tr>\n",
    "\t\t<tr class=\"odd\">\n",
    "\t\t\t<th>Knee Y</th>\n",
    "\t\t\t<td>0</td>\n",
    "\t\t\t<td>1</td>\n",
    "\t\t</tr>\n",
    "\t</tbody>\n",
    "\n",
    "</table>\n",
    "</div>\n",
    "</body>\n",
    "</html>\n",
    "'''"
   ]
  },
  {
   "cell_type": "code",
   "execution_count": null,
   "id": "67bc519d",
   "metadata": {},
   "outputs": [],
   "source": [
    "html_pane = pn.pane.HTML(html)"
   ]
  },
  {
   "cell_type": "code",
   "execution_count": null,
   "id": "c8ba1aa3",
   "metadata": {},
   "outputs": [],
   "source": []
  },
  {
   "cell_type": "code",
   "execution_count": null,
   "id": "438f8daa-0017-4cb2-a8cb-c86784a6ab52",
   "metadata": {},
   "outputs": [],
   "source": [
    "#Layout using Template\n",
    "template = pn.template.FastListTemplate(\n",
    "    title='Wearable Device for Immersive Virtual Reality Control andApplication in Upper Limbs Motor Rehabilitation dashboard', \n",
    "    sidebar=[pn.pane.Markdown(\"\"), \n",
    "             pn.pane.Markdown(\"#### Some meaningful instructions.\"), \n",
    "             select_df,\n",
    "             png_pane_diagnostic,\n",
    "             variance_kneeLangle,\n",
    "#             time_slider_column\n",
    "            ],\n",
    "    main=[pn.Row(pn.Column(yaxis_shoulder,\n",
    "                           shoulder_plot.panel(width=700), margin=(0,25)), \n",
    "                  pn.Column(yaxis_knee,\n",
    "                           knee_plot.panel(width=700), margin=(0,25))), \n",
    "          pn.Row(pn.Column(html_pane), \n",
    "                  png_pane)],\n",
    "    accent_base_color=\"#87d8b1\",\n",
    "    header_background=\"#85d8b0\",\n",
    ")\n",
    "# template.show()\n",
    "template.servable();"
   ]
  },
  {
   "cell_type": "code",
   "execution_count": null,
   "id": "f5556d01",
   "metadata": {},
   "outputs": [],
   "source": []
  },
  {
   "cell_type": "code",
   "execution_count": null,
   "id": "f5469068",
   "metadata": {},
   "outputs": [],
   "source": []
  },
  {
   "cell_type": "code",
   "execution_count": null,
   "id": "4141ce63",
   "metadata": {},
   "outputs": [],
   "source": []
  }
 ],
 "metadata": {
  "kernelspec": {
   "display_name": "Python 3 (ipykernel)",
   "language": "python",
   "name": "python3"
  },
  "language_info": {
   "codemirror_mode": {
    "name": "ipython",
    "version": 3
   },
   "file_extension": ".py",
   "mimetype": "text/x-python",
   "name": "python",
   "nbconvert_exporter": "python",
   "pygments_lexer": "ipython3",
   "version": "3.9.15"
  },
  "vscode": {
   "interpreter": {
    "hash": "767d51c1340bd893661ea55ea3124f6de3c7a262a8b4abca0554b478b1e2ff90"
   }
  }
 },
 "nbformat": 4,
 "nbformat_minor": 5
}
